{
 "cells": [
  {
   "cell_type": "code",
   "execution_count": 1,
   "metadata": {},
   "outputs": [
    {
     "name": "stdout",
     "output_type": "stream",
     "text": [
      "Mongo version 3.9.0\n"
     ]
    }
   ],
   "source": [
    "import os\n",
    "import pandas as pd\n",
    "import numpy as np\n",
    "from IPython.core.display import display, HTML\n",
    "\n",
    "import pymongo\n",
    "from pymongo import MongoClient\n",
    "print ('Mongo version', pymongo.__version__)"
   ]
  },
  {
   "cell_type": "markdown",
   "metadata": {},
   "source": [
    "#####  The fist step when working with PyMongo is to create a MongoClient to the running Mongod instance.\n",
    "##### The following code will connect on the default host and port, with specific host and port explicitly"
   ]
  },
  {
   "cell_type": "code",
   "execution_count": 2,
   "metadata": {},
   "outputs": [],
   "source": [
    "client = MongoClient('localhost', 27017)"
   ]
  },
  {
   "cell_type": "markdown",
   "metadata": {},
   "source": [
    "> we can also use the following code to access the remote mongodb\n",
    "\n",
    "from sshtunnel import SSHTunnelForwarder\n",
    "import pymongo\n",
    "\n",
    "MONGO_HOST = \"REMOTE_IP_ADDRESS\"\n",
    "MONGO_DB = \"DATABASE_NAME\"\n",
    "MONGO_USER = \"LOGIN\"\n",
    "MONGO_PASS = \"PASSWORD\"\n",
    "\n",
    "server = SSHTunnelForwarder(\n",
    "    MONGO_HOST,\n",
    "    ssh_username=MONGO_USER,\n",
    "    ssh_password=MONGO_PASS,\n",
    "    remote_bind_address=('127.0.0.1', 27017)\n",
    ")\n",
    "\n",
    "server.start()\n",
    "\n",
    "client = pymongo.MongoClient('127.0.0.1', server.local_bind_port) # server.local_bind_port is assigned local port\n",
    "db = client[MONGO_DB]\n",
    "\n",
    "server.stop()"
   ]
  },
  {
   "cell_type": "markdown",
   "metadata": {},
   "source": [
    "##### Getting a database and a collection within the database"
   ]
  },
  {
   "cell_type": "code",
   "execution_count": 3,
   "metadata": {},
   "outputs": [],
   "source": [
    "db = client.curd"
   ]
  },
  {
   "cell_type": "markdown",
   "metadata": {},
   "source": [
    "##### create operations:\n",
    "##### db.collection.insertOne() --> db.collection.insert_one()\n",
    "##### db.collection.insertMany()--> db.collection.insert_many()"
   ]
  },
  {
   "cell_type": "code",
   "execution_count": 4,
   "metadata": {},
   "outputs": [
    {
     "data": {
      "text/plain": [
       "<pymongo.results.InsertOneResult at 0x11407efc8>"
      ]
     },
     "execution_count": 4,
     "metadata": {},
     "output_type": "execute_result"
    }
   ],
   "source": [
    "db.inventory.insert_one(\n",
    "    {\"item\": \"canvas\",\n",
    "     \"qty\": 100,\n",
    "     \"tags\": [\"cotton\"],\n",
    "     \"size\": {\"h\": 28, \"w\": 35.5, \"uom\": \"cm\"}})"
   ]
  },
  {
   "cell_type": "markdown",
   "metadata": {},
   "source": [
    "> In MongoDB, each document stored in a collection requires a unique _id field that acts as a primary key. If an inserted document omits the _id field, the MongoDB driver automatically generates an ObjectId for the _id field.\n",
    "\n",
    "ObjectIds are small, likely unique, fast to generate, and ordered. ObjectId values consist of 12 bytes, where the first four bytes are a timestamp that reflect the ObjectId’s creation. Specifically:\n",
    "\n",
    "1. a 4-byte value representing the seconds since the Unix epoch,\n",
    "2. a 5-byte random value, and\n",
    "3. a 3-byte counter, starting with a random value.\n",
    "\n",
    "#### Syntax:\n",
    "db.database_name.insert_one(           <---Collection\n",
    "{\n",
    "    \"name\" : \"sue\",                    <---field:value\n",
    "    \"age\" : 26,                        <---field:va\n",
    "    \"status\" : \"pending\"               <---field:va\n",
    "}\n",
    ")"
   ]
  },
  {
   "cell_type": "code",
   "execution_count": 5,
   "metadata": {},
   "outputs": [],
   "source": [
    "cursor = db.inventory.find({\"item\": \"canvas\"})"
   ]
  },
  {
   "cell_type": "code",
   "execution_count": 6,
   "metadata": {},
   "outputs": [
    {
     "data": {
      "text/html": [
       "<div>\n",
       "<style scoped>\n",
       "    .dataframe tbody tr th:only-of-type {\n",
       "        vertical-align: middle;\n",
       "    }\n",
       "\n",
       "    .dataframe tbody tr th {\n",
       "        vertical-align: top;\n",
       "    }\n",
       "\n",
       "    .dataframe thead th {\n",
       "        text-align: right;\n",
       "    }\n",
       "</style>\n",
       "<table border=\"1\" class=\"dataframe\">\n",
       "  <thead>\n",
       "    <tr style=\"text-align: right;\">\n",
       "      <th></th>\n",
       "      <th>_id</th>\n",
       "      <th>item</th>\n",
       "      <th>qty</th>\n",
       "      <th>size</th>\n",
       "      <th>tags</th>\n",
       "    </tr>\n",
       "  </thead>\n",
       "  <tbody>\n",
       "    <tr>\n",
       "      <th>0</th>\n",
       "      <td>5c06d624519b1f26a4b217fd</td>\n",
       "      <td>canvas</td>\n",
       "      <td>100</td>\n",
       "      <td>{'h': 28, 'w': 35.5, 'uom': 'cm'}</td>\n",
       "      <td>[cotton]</td>\n",
       "    </tr>\n",
       "    <tr>\n",
       "      <th>1</th>\n",
       "      <td>5dc36a2f631edcc8e61b502b</td>\n",
       "      <td>canvas</td>\n",
       "      <td>100</td>\n",
       "      <td>{'h': 28, 'w': 35.5, 'uom': 'cm'}</td>\n",
       "      <td>[cotton]</td>\n",
       "    </tr>\n",
       "    <tr>\n",
       "      <th>2</th>\n",
       "      <td>5dc36a68293fb9c4b025f5db</td>\n",
       "      <td>canvas</td>\n",
       "      <td>100</td>\n",
       "      <td>{'h': 28, 'w': 35.5, 'uom': 'cm'}</td>\n",
       "      <td>[cotton]</td>\n",
       "    </tr>\n",
       "    <tr>\n",
       "      <th>3</th>\n",
       "      <td>5dc36a93dceb78041aba724a</td>\n",
       "      <td>canvas</td>\n",
       "      <td>100</td>\n",
       "      <td>{'h': 28, 'w': 35.5, 'uom': 'cm'}</td>\n",
       "      <td>[cotton]</td>\n",
       "    </tr>\n",
       "  </tbody>\n",
       "</table>\n",
       "</div>"
      ],
      "text/plain": [
       "                        _id    item  qty                               size  \\\n",
       "0  5c06d624519b1f26a4b217fd  canvas  100  {'h': 28, 'w': 35.5, 'uom': 'cm'}   \n",
       "1  5dc36a2f631edcc8e61b502b  canvas  100  {'h': 28, 'w': 35.5, 'uom': 'cm'}   \n",
       "2  5dc36a68293fb9c4b025f5db  canvas  100  {'h': 28, 'w': 35.5, 'uom': 'cm'}   \n",
       "3  5dc36a93dceb78041aba724a  canvas  100  {'h': 28, 'w': 35.5, 'uom': 'cm'}   \n",
       "\n",
       "       tags  \n",
       "0  [cotton]  \n",
       "1  [cotton]  \n",
       "2  [cotton]  \n",
       "3  [cotton]  "
      ]
     },
     "execution_count": 6,
     "metadata": {},
     "output_type": "execute_result"
    }
   ],
   "source": [
    "pd.DataFrame(list(cursor))"
   ]
  },
  {
   "cell_type": "code",
   "execution_count": 7,
   "metadata": {},
   "outputs": [
    {
     "data": {
      "text/plain": [
       "<pymongo.results.InsertManyResult at 0x114051508>"
      ]
     },
     "execution_count": 7,
     "metadata": {},
     "output_type": "execute_result"
    }
   ],
   "source": [
    "db.inventory.insert_many([\n",
    "    {\"item\": \"journal\",\n",
    "     \"qty\": 25,\n",
    "     \"tags\": [\"blank\", \"red\"],\n",
    "     \"size\": {\"h\": 14, \"w\": 21, \"uom\": \"cm\"}},\n",
    "    {\"item\": \"mat\",\n",
    "     \"qty\": 85,\n",
    "     \"tags\": [\"gray\"],\n",
    "     \"size\": {\"h\": 27.9, \"w\": 35.5, \"uom\": \"cm\"}},\n",
    "    {\"item\": \"mousepad\",\n",
    "     \"qty\": 25,\n",
    "     \"tags\": [\"gel\", \"blue\"],\n",
    "     \"size\": {\"h\": 19, \"w\": 22.85, \"uom\": \"cm\"}}])"
   ]
  },
  {
   "cell_type": "markdown",
   "metadata": {},
   "source": [
    "## Query/Read\n",
    "#### Query Documents\n",
    "> MongoDB basically use the BSON file (similar to JSON), <field>:<value>\n",
    "    for the <value> we can have different type:\n",
    "    <-- 1. Single value\n",
    "        2. An array\n",
    "        3. embedded document, where can again have type 1, 2, and 3 value"
   ]
  },
  {
   "cell_type": "code",
   "execution_count": 8,
   "metadata": {},
   "outputs": [
    {
     "data": {
      "text/plain": [
       "<pymongo.results.InsertManyResult at 0x114086108>"
      ]
     },
     "execution_count": 8,
     "metadata": {},
     "output_type": "execute_result"
    }
   ],
   "source": [
    "db.inventory.drop()\n",
    "db.inventory.insert_many([\n",
    "    {\"item\": \"journal\",\n",
    "     \"qty\": 25,\n",
    "     \"size\": {\"h\": 14, \"w\": 21, \"uom\": \"cm\"},\n",
    "     \"status\": \"A\"},\n",
    "    {\"item\": \"notebook\",\n",
    "     \"qty\": 50,\n",
    "     \"size\": {\"h\": 8.5, \"w\": 11, \"uom\": \"in\"},\n",
    "     \"status\": \"A\"},\n",
    "    {\"item\": \"paper\",\n",
    "     \"qty\": 100,\n",
    "     \"size\": {\"h\": 8.5, \"w\": 11, \"uom\": \"in\"},\n",
    "     \"status\": \"D\"},\n",
    "    {\"item\": \"planner\",\n",
    "     \"qty\": 75, \"size\": {\"h\": 22.85, \"w\": 30, \"uom\": \"cm\"},\n",
    "     \"status\": \"D\"},\n",
    "    {\"item\": \"postcard\",\n",
    "     \"qty\": 45,\n",
    "     \"size\": {\"h\": 10, \"w\": 15.25, \"uom\": \"cm\"},\n",
    "     \"status\": \"A\"}])"
   ]
  },
  {
   "cell_type": "markdown",
   "metadata": {},
   "source": [
    "### select all documents in a collection\n",
    "##### the following operation corresponds to the SQL statement: \n",
    "> SELECT * FROM inventory\n",
    "\n",
    "###### Syntax:\n",
    "db.datbase_name.find(           <--- collection\n",
    "    {\"field\":{\"$gt\" : 18} },    <--- query criteria\n",
    "    {\"name\":1, address: 1}      <--- projection\n",
    ").limit(5) .                    <--- cursor modifier"
   ]
  },
  {
   "cell_type": "code",
   "execution_count": 12,
   "metadata": {},
   "outputs": [],
   "source": [
    "cursor = db.inventory.find({})"
   ]
  },
  {
   "cell_type": "code",
   "execution_count": 13,
   "metadata": {},
   "outputs": [
    {
     "data": {
      "text/html": [
       "<div>\n",
       "<style scoped>\n",
       "    .dataframe tbody tr th:only-of-type {\n",
       "        vertical-align: middle;\n",
       "    }\n",
       "\n",
       "    .dataframe tbody tr th {\n",
       "        vertical-align: top;\n",
       "    }\n",
       "\n",
       "    .dataframe thead th {\n",
       "        text-align: right;\n",
       "    }\n",
       "</style>\n",
       "<table border=\"1\" class=\"dataframe\">\n",
       "  <thead>\n",
       "    <tr style=\"text-align: right;\">\n",
       "      <th></th>\n",
       "      <th>_id</th>\n",
       "      <th>item</th>\n",
       "      <th>qty</th>\n",
       "      <th>size</th>\n",
       "      <th>status</th>\n",
       "    </tr>\n",
       "  </thead>\n",
       "  <tbody>\n",
       "    <tr>\n",
       "      <th>0</th>\n",
       "      <td>5dc36a9cdceb78041aba724e</td>\n",
       "      <td>journal</td>\n",
       "      <td>25</td>\n",
       "      <td>{'h': 14, 'w': 21, 'uom': 'cm'}</td>\n",
       "      <td>A</td>\n",
       "    </tr>\n",
       "    <tr>\n",
       "      <th>1</th>\n",
       "      <td>5dc36a9cdceb78041aba724f</td>\n",
       "      <td>notebook</td>\n",
       "      <td>50</td>\n",
       "      <td>{'h': 8.5, 'w': 11, 'uom': 'in'}</td>\n",
       "      <td>A</td>\n",
       "    </tr>\n",
       "    <tr>\n",
       "      <th>2</th>\n",
       "      <td>5dc36a9cdceb78041aba7250</td>\n",
       "      <td>paper</td>\n",
       "      <td>100</td>\n",
       "      <td>{'h': 8.5, 'w': 11, 'uom': 'in'}</td>\n",
       "      <td>D</td>\n",
       "    </tr>\n",
       "    <tr>\n",
       "      <th>3</th>\n",
       "      <td>5dc36a9cdceb78041aba7251</td>\n",
       "      <td>planner</td>\n",
       "      <td>75</td>\n",
       "      <td>{'h': 22.85, 'w': 30, 'uom': 'cm'}</td>\n",
       "      <td>D</td>\n",
       "    </tr>\n",
       "    <tr>\n",
       "      <th>4</th>\n",
       "      <td>5dc36a9cdceb78041aba7252</td>\n",
       "      <td>postcard</td>\n",
       "      <td>45</td>\n",
       "      <td>{'h': 10, 'w': 15.25, 'uom': 'cm'}</td>\n",
       "      <td>A</td>\n",
       "    </tr>\n",
       "  </tbody>\n",
       "</table>\n",
       "</div>"
      ],
      "text/plain": [
       "                        _id      item  qty  \\\n",
       "0  5dc36a9cdceb78041aba724e   journal   25   \n",
       "1  5dc36a9cdceb78041aba724f  notebook   50   \n",
       "2  5dc36a9cdceb78041aba7250     paper  100   \n",
       "3  5dc36a9cdceb78041aba7251   planner   75   \n",
       "4  5dc36a9cdceb78041aba7252  postcard   45   \n",
       "\n",
       "                                 size status  \n",
       "0     {'h': 14, 'w': 21, 'uom': 'cm'}      A  \n",
       "1    {'h': 8.5, 'w': 11, 'uom': 'in'}      A  \n",
       "2    {'h': 8.5, 'w': 11, 'uom': 'in'}      D  \n",
       "3  {'h': 22.85, 'w': 30, 'uom': 'cm'}      D  \n",
       "4  {'h': 10, 'w': 15.25, 'uom': 'cm'}      A  "
      ]
     },
     "execution_count": 13,
     "metadata": {},
     "output_type": "execute_result"
    }
   ],
   "source": [
    "df1 = pd.DataFrame(list(cursor)) # use list to turn the cursor to an array of documents\n",
    "df1.head() # return fist n rows, by default n=5"
   ]
  },
  {
   "cell_type": "markdown",
   "metadata": {},
   "source": [
    "##### To sepecific equality conditions, use  <field> : <value> \n",
    "##### expressions in the query filter documents"
   ]
  },
  {
   "cell_type": "code",
   "execution_count": 14,
   "metadata": {},
   "outputs": [
    {
     "data": {
      "text/html": [
       "<div>\n",
       "<style scoped>\n",
       "    .dataframe tbody tr th:only-of-type {\n",
       "        vertical-align: middle;\n",
       "    }\n",
       "\n",
       "    .dataframe tbody tr th {\n",
       "        vertical-align: top;\n",
       "    }\n",
       "\n",
       "    .dataframe thead th {\n",
       "        text-align: right;\n",
       "    }\n",
       "</style>\n",
       "<table border=\"1\" class=\"dataframe\">\n",
       "  <thead>\n",
       "    <tr style=\"text-align: right;\">\n",
       "      <th></th>\n",
       "      <th>_id</th>\n",
       "      <th>item</th>\n",
       "      <th>qty</th>\n",
       "      <th>size</th>\n",
       "      <th>status</th>\n",
       "    </tr>\n",
       "  </thead>\n",
       "  <tbody>\n",
       "    <tr>\n",
       "      <th>0</th>\n",
       "      <td>5dc36a9cdceb78041aba7250</td>\n",
       "      <td>paper</td>\n",
       "      <td>100</td>\n",
       "      <td>{'h': 8.5, 'w': 11, 'uom': 'in'}</td>\n",
       "      <td>D</td>\n",
       "    </tr>\n",
       "    <tr>\n",
       "      <th>1</th>\n",
       "      <td>5dc36a9cdceb78041aba7251</td>\n",
       "      <td>planner</td>\n",
       "      <td>75</td>\n",
       "      <td>{'h': 22.85, 'w': 30, 'uom': 'cm'}</td>\n",
       "      <td>D</td>\n",
       "    </tr>\n",
       "  </tbody>\n",
       "</table>\n",
       "</div>"
      ],
      "text/plain": [
       "                        _id     item  qty                                size  \\\n",
       "0  5dc36a9cdceb78041aba7250    paper  100    {'h': 8.5, 'w': 11, 'uom': 'in'}   \n",
       "1  5dc36a9cdceb78041aba7251  planner   75  {'h': 22.85, 'w': 30, 'uom': 'cm'}   \n",
       "\n",
       "  status  \n",
       "0      D  \n",
       "1      D  "
      ]
     },
     "execution_count": 14,
     "metadata": {},
     "output_type": "execute_result"
    }
   ],
   "source": [
    "cursor = db.inventory.find({\"status\": \"D\"})\n",
    "df1 = pd.DataFrame(list(cursor))\n",
    "df1.head()"
   ]
  },
  {
   "cell_type": "markdown",
   "metadata": {},
   "source": [
    "#### Specify conditions using query operators\n",
    "#### list several commonly used operators, more operators can be found with examples on\n",
    "#### https://docs.mongodb.com/manual/reference/operator/query/#query-selectors"
   ]
  },
  {
   "cell_type": "code",
   "execution_count": 15,
   "metadata": {},
   "outputs": [
    {
     "data": {
      "text/html": [
       "<style  type=\"text/css\" >\n",
       "    #T_d507de96_00f8_11ea_8787_f21898361547row0_col0 {\n",
       "            width:  500px;\n",
       "        }    #T_d507de96_00f8_11ea_8787_f21898361547row1_col0 {\n",
       "            width:  500px;\n",
       "        }    #T_d507de96_00f8_11ea_8787_f21898361547row2_col0 {\n",
       "            width:  500px;\n",
       "        }    #T_d507de96_00f8_11ea_8787_f21898361547row3_col0 {\n",
       "            width:  500px;\n",
       "        }    #T_d507de96_00f8_11ea_8787_f21898361547row4_col0 {\n",
       "            width:  500px;\n",
       "        }    #T_d507de96_00f8_11ea_8787_f21898361547row5_col0 {\n",
       "            width:  500px;\n",
       "        }    #T_d507de96_00f8_11ea_8787_f21898361547row6_col0 {\n",
       "            width:  500px;\n",
       "        }    #T_d507de96_00f8_11ea_8787_f21898361547row7_col0 {\n",
       "            width:  500px;\n",
       "        }</style>  \n",
       "<table id=\"T_d507de96_00f8_11ea_8787_f21898361547\" > \n",
       "<thead>    <tr> \n",
       "        <th class=\"blank level0\" ></th> \n",
       "        <th class=\"col_heading level0 col0\" >meaning</th> \n",
       "        <th class=\"col_heading level0 col1\" >name</th> \n",
       "    </tr></thead> \n",
       "<tbody>    <tr> \n",
       "        <th id=\"T_d507de96_00f8_11ea_8787_f21898361547level0_row0\" class=\"row_heading level0 row0\" >0</th> \n",
       "        <td id=\"T_d507de96_00f8_11ea_8787_f21898361547row0_col0\" class=\"data row0 col0\" >Matches values that are equal to a specified value.</td> \n",
       "        <td id=\"T_d507de96_00f8_11ea_8787_f21898361547row0_col1\" class=\"data row0 col1\" >$eq</td> \n",
       "    </tr>    <tr> \n",
       "        <th id=\"T_d507de96_00f8_11ea_8787_f21898361547level0_row1\" class=\"row_heading level0 row1\" >1</th> \n",
       "        <td id=\"T_d507de96_00f8_11ea_8787_f21898361547row1_col0\" class=\"data row1 col0\" >Matches values that are greater then a specified vlue.</td> \n",
       "        <td id=\"T_d507de96_00f8_11ea_8787_f21898361547row1_col1\" class=\"data row1 col1\" >$gt</td> \n",
       "    </tr>    <tr> \n",
       "        <th id=\"T_d507de96_00f8_11ea_8787_f21898361547level0_row2\" class=\"row_heading level0 row2\" >2</th> \n",
       "        <td id=\"T_d507de96_00f8_11ea_8787_f21898361547row2_col0\" class=\"data row2 col0\" >Matches values that are greater than or equal to a specified value.</td> \n",
       "        <td id=\"T_d507de96_00f8_11ea_8787_f21898361547row2_col1\" class=\"data row2 col1\" >$gte</td> \n",
       "    </tr>    <tr> \n",
       "        <th id=\"T_d507de96_00f8_11ea_8787_f21898361547level0_row3\" class=\"row_heading level0 row3\" >3</th> \n",
       "        <td id=\"T_d507de96_00f8_11ea_8787_f21898361547row3_col0\" class=\"data row3 col0\" >Matches any of the values specified in an array.</td> \n",
       "        <td id=\"T_d507de96_00f8_11ea_8787_f21898361547row3_col1\" class=\"data row3 col1\" >$in</td> \n",
       "    </tr>    <tr> \n",
       "        <th id=\"T_d507de96_00f8_11ea_8787_f21898361547level0_row4\" class=\"row_heading level0 row4\" >4</th> \n",
       "        <td id=\"T_d507de96_00f8_11ea_8787_f21898361547row4_col0\" class=\"data row4 col0\" >Matches values that are less than a specified value.</td> \n",
       "        <td id=\"T_d507de96_00f8_11ea_8787_f21898361547row4_col1\" class=\"data row4 col1\" >$lt</td> \n",
       "    </tr>    <tr> \n",
       "        <th id=\"T_d507de96_00f8_11ea_8787_f21898361547level0_row5\" class=\"row_heading level0 row5\" >5</th> \n",
       "        <td id=\"T_d507de96_00f8_11ea_8787_f21898361547row5_col0\" class=\"data row5 col0\" >Matches values that are less than or equal to a specified value.</td> \n",
       "        <td id=\"T_d507de96_00f8_11ea_8787_f21898361547row5_col1\" class=\"data row5 col1\" >$lte</td> \n",
       "    </tr>    <tr> \n",
       "        <th id=\"T_d507de96_00f8_11ea_8787_f21898361547level0_row6\" class=\"row_heading level0 row6\" >6</th> \n",
       "        <td id=\"T_d507de96_00f8_11ea_8787_f21898361547row6_col0\" class=\"data row6 col0\" >Matches all values that are not equal to a specified value.</td> \n",
       "        <td id=\"T_d507de96_00f8_11ea_8787_f21898361547row6_col1\" class=\"data row6 col1\" >$ne</td> \n",
       "    </tr>    <tr> \n",
       "        <th id=\"T_d507de96_00f8_11ea_8787_f21898361547level0_row7\" class=\"row_heading level0 row7\" >7</th> \n",
       "        <td id=\"T_d507de96_00f8_11ea_8787_f21898361547row7_col0\" class=\"data row7 col0\" >Matches none of the values specified in an array.</td> \n",
       "        <td id=\"T_d507de96_00f8_11ea_8787_f21898361547row7_col1\" class=\"data row7 col1\" >$nin</td> \n",
       "    </tr></tbody> \n",
       "</table> "
      ],
      "text/plain": [
       "<pandas.io.formats.style.Styler at 0x114111080>"
      ]
     },
     "execution_count": 15,
     "metadata": {},
     "output_type": "execute_result"
    }
   ],
   "source": [
    "comparison_operators = [\n",
    "    {\"name\": \"$eq\",  \"meaning\" : \"Matches values that are equal to a specified value.\"},\n",
    "    {\"name\": \"$gt\",  \"meaning\" : \"Matches values that are greater then a specified vlue.\"},\n",
    "    {\"name\": \"$gte\", \"meaning\" : \"Matches values that are greater than or equal to a specified value.\"},\n",
    "    {\"name\": \"$in\",  \"meaning\" : \"Matches any of the values specified in an array.\"},\n",
    "    {\"name\": \"$lt\",  \"meaning\" : \"Matches values that are less than a specified value.\"},\n",
    "    {\"name\": \"$lte\", \"meaning\" : \"Matches values that are less than or equal to a specified value.\"},\n",
    "    {\"name\": \"$ne\",  \"meaning\" : \"Matches all values that are not equal to a specified value.\"},\n",
    "    {\"name\": \"$nin\", \"meaning\" : \"Matches none of the values specified in an array.\"}\n",
    "]\n",
    "df = pd.DataFrame(comparison_operators)\n",
    "df.style.set_properties(subset=['meaning'], **{'width': '500px'})"
   ]
  },
  {
   "cell_type": "code",
   "execution_count": 16,
   "metadata": {},
   "outputs": [
    {
     "data": {
      "text/html": [
       "<style  type=\"text/css\" >\n",
       "    #T_d567266c_00f8_11ea_8787_f21898361547row0_col0 {\n",
       "            width:  600px;\n",
       "        }    #T_d567266c_00f8_11ea_8787_f21898361547row1_col0 {\n",
       "            width:  600px;\n",
       "        }    #T_d567266c_00f8_11ea_8787_f21898361547row2_col0 {\n",
       "            width:  600px;\n",
       "        }    #T_d567266c_00f8_11ea_8787_f21898361547row3_col0 {\n",
       "            width:  600px;\n",
       "        }</style>  \n",
       "<table id=\"T_d567266c_00f8_11ea_8787_f21898361547\" > \n",
       "<thead>    <tr> \n",
       "        <th class=\"blank level0\" ></th> \n",
       "        <th class=\"col_heading level0 col0\" >meaning</th> \n",
       "        <th class=\"col_heading level0 col1\" >name</th> \n",
       "    </tr></thead> \n",
       "<tbody>    <tr> \n",
       "        <th id=\"T_d567266c_00f8_11ea_8787_f21898361547level0_row0\" class=\"row_heading level0 row0\" >0</th> \n",
       "        <td id=\"T_d567266c_00f8_11ea_8787_f21898361547row0_col0\" class=\"data row0 col0\" >Joins query clauses with a logical AND returns all documents that match the conditions of both clauses.</td> \n",
       "        <td id=\"T_d567266c_00f8_11ea_8787_f21898361547row0_col1\" class=\"data row0 col1\" >$and</td> \n",
       "    </tr>    <tr> \n",
       "        <th id=\"T_d567266c_00f8_11ea_8787_f21898361547level0_row1\" class=\"row_heading level0 row1\" >1</th> \n",
       "        <td id=\"T_d567266c_00f8_11ea_8787_f21898361547row1_col0\" class=\"data row1 col0\" >Inverts the effect of a query expression and returns documents that do not match the query expression.</td> \n",
       "        <td id=\"T_d567266c_00f8_11ea_8787_f21898361547row1_col1\" class=\"data row1 col1\" >$not</td> \n",
       "    </tr>    <tr> \n",
       "        <th id=\"T_d567266c_00f8_11ea_8787_f21898361547level0_row2\" class=\"row_heading level0 row2\" >2</th> \n",
       "        <td id=\"T_d567266c_00f8_11ea_8787_f21898361547row2_col0\" class=\"data row2 col0\" >Joins query clauses with a logical NOR returns all documents that fail to match both clauses.</td> \n",
       "        <td id=\"T_d567266c_00f8_11ea_8787_f21898361547row2_col1\" class=\"data row2 col1\" >$nor</td> \n",
       "    </tr>    <tr> \n",
       "        <th id=\"T_d567266c_00f8_11ea_8787_f21898361547level0_row3\" class=\"row_heading level0 row3\" >3</th> \n",
       "        <td id=\"T_d567266c_00f8_11ea_8787_f21898361547row3_col0\" class=\"data row3 col0\" >Joins query clauses with a logical OR returns all documents that match the conditions of either clause.</td> \n",
       "        <td id=\"T_d567266c_00f8_11ea_8787_f21898361547row3_col1\" class=\"data row3 col1\" >$or</td> \n",
       "    </tr></tbody> \n",
       "</table> "
      ],
      "text/plain": [
       "<pandas.io.formats.style.Styler at 0x11410bcc0>"
      ]
     },
     "execution_count": 16,
     "metadata": {},
     "output_type": "execute_result"
    }
   ],
   "source": [
    "logical_operators =[\n",
    "    {\"name\" : \"$and\", \"meaning\" : \"Joins query clauses with a logical AND returns all documents that match the conditions of both clauses.\"},\n",
    "    {\"name\" : \"$not\", \"meaning\" : \"Inverts the effect of a query expression and returns documents that do not match the query expression.\"},\n",
    "    {\"name\" : \"$nor\", \"meaning\" : \"Joins query clauses with a logical NOR returns all documents that fail to match both clauses.\"},\n",
    "    {\"name\" : \"$or\",  \"meaning\" : \"Joins query clauses with a logical OR returns all documents that match the conditions of either clause.\"}\n",
    "]\n",
    "df = pd.DataFrame(logical_operators)\n",
    "df.style.set_properties(subset=['meaning'], **{'width': '600px'})"
   ]
  },
  {
   "cell_type": "code",
   "execution_count": 17,
   "metadata": {},
   "outputs": [
    {
     "data": {
      "text/html": [
       "<style  type=\"text/css\" >\n",
       "    #T_d5b76302_00f8_11ea_8787_f21898361547row0_col0 {\n",
       "            width:  600px;\n",
       "        }    #T_d5b76302_00f8_11ea_8787_f21898361547row1_col0 {\n",
       "            width:  600px;\n",
       "        }    #T_d5b76302_00f8_11ea_8787_f21898361547row2_col0 {\n",
       "            width:  600px;\n",
       "        }</style>  \n",
       "<table id=\"T_d5b76302_00f8_11ea_8787_f21898361547\" > \n",
       "<thead>    <tr> \n",
       "        <th class=\"blank level0\" ></th> \n",
       "        <th class=\"col_heading level0 col0\" >meaning</th> \n",
       "        <th class=\"col_heading level0 col1\" >name</th> \n",
       "    </tr></thead> \n",
       "<tbody>    <tr> \n",
       "        <th id=\"T_d5b76302_00f8_11ea_8787_f21898361547level0_row0\" class=\"row_heading level0 row0\" >0</th> \n",
       "        <td id=\"T_d5b76302_00f8_11ea_8787_f21898361547row0_col0\" class=\"data row0 col0\" >Matches arrays that contain all elements specified in the query.</td> \n",
       "        <td id=\"T_d5b76302_00f8_11ea_8787_f21898361547row0_col1\" class=\"data row0 col1\" >$all</td> \n",
       "    </tr>    <tr> \n",
       "        <th id=\"T_d5b76302_00f8_11ea_8787_f21898361547level0_row1\" class=\"row_heading level0 row1\" >1</th> \n",
       "        <td id=\"T_d5b76302_00f8_11ea_8787_f21898361547row1_col0\" class=\"data row1 col0\" >Selects documents if element in the array field matches all the specified $elemMatch conditions.</td> \n",
       "        <td id=\"T_d5b76302_00f8_11ea_8787_f21898361547row1_col1\" class=\"data row1 col1\" >$elemMatch</td> \n",
       "    </tr>    <tr> \n",
       "        <th id=\"T_d5b76302_00f8_11ea_8787_f21898361547level0_row2\" class=\"row_heading level0 row2\" >2</th> \n",
       "        <td id=\"T_d5b76302_00f8_11ea_8787_f21898361547row2_col0\" class=\"data row2 col0\" >Selects documents if the array field is a specified size.</td> \n",
       "        <td id=\"T_d5b76302_00f8_11ea_8787_f21898361547row2_col1\" class=\"data row2 col1\" >$size</td> \n",
       "    </tr></tbody> \n",
       "</table> "
      ],
      "text/plain": [
       "<pandas.io.formats.style.Styler at 0x11410bb00>"
      ]
     },
     "execution_count": 17,
     "metadata": {},
     "output_type": "execute_result"
    }
   ],
   "source": [
    "array_operators = [\n",
    "    {\"name\":\"$all\",\"meaning\":\"Matches arrays that contain all elements specified in the query.\"},\n",
    "    {\"name\":\"$elemMatch\",\"meaning\":\"Selects documents if element in the array field matches all the specified $elemMatch conditions.\"},\n",
    "    {\"name\":\"$size\",\"meaning\":\"Selects documents if the array field is a specified size.\"}\n",
    "]\n",
    "df = pd.DataFrame(array_operators)\n",
    "df.style.set_properties(subset=['meaning'], **{'width': '600px'})"
   ]
  },
  {
   "cell_type": "code",
   "execution_count": 18,
   "metadata": {},
   "outputs": [
    {
     "data": {
      "text/html": [
       "<div>\n",
       "<style scoped>\n",
       "    .dataframe tbody tr th:only-of-type {\n",
       "        vertical-align: middle;\n",
       "    }\n",
       "\n",
       "    .dataframe tbody tr th {\n",
       "        vertical-align: top;\n",
       "    }\n",
       "\n",
       "    .dataframe thead th {\n",
       "        text-align: right;\n",
       "    }\n",
       "</style>\n",
       "<table border=\"1\" class=\"dataframe\">\n",
       "  <thead>\n",
       "    <tr style=\"text-align: right;\">\n",
       "      <th></th>\n",
       "      <th>_id</th>\n",
       "      <th>item</th>\n",
       "      <th>qty</th>\n",
       "      <th>size</th>\n",
       "      <th>status</th>\n",
       "    </tr>\n",
       "  </thead>\n",
       "  <tbody>\n",
       "    <tr>\n",
       "      <th>0</th>\n",
       "      <td>5dc36a9cdceb78041aba724e</td>\n",
       "      <td>journal</td>\n",
       "      <td>25</td>\n",
       "      <td>{'h': 14, 'w': 21, 'uom': 'cm'}</td>\n",
       "      <td>A</td>\n",
       "    </tr>\n",
       "    <tr>\n",
       "      <th>1</th>\n",
       "      <td>5dc36a9cdceb78041aba724f</td>\n",
       "      <td>notebook</td>\n",
       "      <td>50</td>\n",
       "      <td>{'h': 8.5, 'w': 11, 'uom': 'in'}</td>\n",
       "      <td>A</td>\n",
       "    </tr>\n",
       "    <tr>\n",
       "      <th>2</th>\n",
       "      <td>5dc36a9cdceb78041aba7250</td>\n",
       "      <td>paper</td>\n",
       "      <td>100</td>\n",
       "      <td>{'h': 8.5, 'w': 11, 'uom': 'in'}</td>\n",
       "      <td>D</td>\n",
       "    </tr>\n",
       "    <tr>\n",
       "      <th>3</th>\n",
       "      <td>5dc36a9cdceb78041aba7251</td>\n",
       "      <td>planner</td>\n",
       "      <td>75</td>\n",
       "      <td>{'h': 22.85, 'w': 30, 'uom': 'cm'}</td>\n",
       "      <td>D</td>\n",
       "    </tr>\n",
       "    <tr>\n",
       "      <th>4</th>\n",
       "      <td>5dc36a9cdceb78041aba7252</td>\n",
       "      <td>postcard</td>\n",
       "      <td>45</td>\n",
       "      <td>{'h': 10, 'w': 15.25, 'uom': 'cm'}</td>\n",
       "      <td>A</td>\n",
       "    </tr>\n",
       "  </tbody>\n",
       "</table>\n",
       "</div>"
      ],
      "text/plain": [
       "                        _id      item  qty  \\\n",
       "0  5dc36a9cdceb78041aba724e   journal   25   \n",
       "1  5dc36a9cdceb78041aba724f  notebook   50   \n",
       "2  5dc36a9cdceb78041aba7250     paper  100   \n",
       "3  5dc36a9cdceb78041aba7251   planner   75   \n",
       "4  5dc36a9cdceb78041aba7252  postcard   45   \n",
       "\n",
       "                                 size status  \n",
       "0     {'h': 14, 'w': 21, 'uom': 'cm'}      A  \n",
       "1    {'h': 8.5, 'w': 11, 'uom': 'in'}      A  \n",
       "2    {'h': 8.5, 'w': 11, 'uom': 'in'}      D  \n",
       "3  {'h': 22.85, 'w': 30, 'uom': 'cm'}      D  \n",
       "4  {'h': 10, 'w': 15.25, 'uom': 'cm'}      A  "
      ]
     },
     "execution_count": 18,
     "metadata": {},
     "output_type": "execute_result"
    }
   ],
   "source": [
    "cursor = db.inventory.find({\"status\": {\"$in\": [\"A\", \"D\"]}})\n",
    "df1 = pd.DataFrame(list(cursor))\n",
    "df1.head(10)"
   ]
  },
  {
   "cell_type": "markdown",
   "metadata": {},
   "source": [
    "#### Specify AND and OR conditions\n",
    "1. SELECT * FROM inventory WHERE status = \"A\" AND qty < 30\n",
    "2. SELECT * FROM inventory WHERE status = \"A\" OR qty < 30\n",
    "3. SELECT * FROM inventory WHERE status = \"A\" AND ( qty < 30 OR item LIKE \"p%\")"
   ]
  },
  {
   "cell_type": "code",
   "execution_count": 19,
   "metadata": {},
   "outputs": [
    {
     "data": {
      "text/html": [
       "<div>\n",
       "<style scoped>\n",
       "    .dataframe tbody tr th:only-of-type {\n",
       "        vertical-align: middle;\n",
       "    }\n",
       "\n",
       "    .dataframe tbody tr th {\n",
       "        vertical-align: top;\n",
       "    }\n",
       "\n",
       "    .dataframe thead th {\n",
       "        text-align: right;\n",
       "    }\n",
       "</style>\n",
       "<table border=\"1\" class=\"dataframe\">\n",
       "  <thead>\n",
       "    <tr style=\"text-align: right;\">\n",
       "      <th></th>\n",
       "      <th>_id</th>\n",
       "      <th>item</th>\n",
       "      <th>qty</th>\n",
       "      <th>size</th>\n",
       "      <th>status</th>\n",
       "    </tr>\n",
       "  </thead>\n",
       "  <tbody>\n",
       "    <tr>\n",
       "      <th>0</th>\n",
       "      <td>5dc36a9cdceb78041aba724e</td>\n",
       "      <td>journal</td>\n",
       "      <td>25</td>\n",
       "      <td>{'h': 14, 'w': 21, 'uom': 'cm'}</td>\n",
       "      <td>A</td>\n",
       "    </tr>\n",
       "  </tbody>\n",
       "</table>\n",
       "</div>"
      ],
      "text/plain": [
       "                        _id     item  qty                             size  \\\n",
       "0  5dc36a9cdceb78041aba724e  journal   25  {'h': 14, 'w': 21, 'uom': 'cm'}   \n",
       "\n",
       "  status  \n",
       "0      A  "
      ]
     },
     "execution_count": 19,
     "metadata": {},
     "output_type": "execute_result"
    }
   ],
   "source": [
    "cursor = db.inventory.find({\"status\": \"A\", \"qty\": {\"$lt\": 30}})\n",
    "df1 = pd.DataFrame(list(cursor))\n",
    "df1.head(10)"
   ]
  },
  {
   "cell_type": "code",
   "execution_count": 20,
   "metadata": {},
   "outputs": [
    {
     "data": {
      "text/html": [
       "<div>\n",
       "<style scoped>\n",
       "    .dataframe tbody tr th:only-of-type {\n",
       "        vertical-align: middle;\n",
       "    }\n",
       "\n",
       "    .dataframe tbody tr th {\n",
       "        vertical-align: top;\n",
       "    }\n",
       "\n",
       "    .dataframe thead th {\n",
       "        text-align: right;\n",
       "    }\n",
       "</style>\n",
       "<table border=\"1\" class=\"dataframe\">\n",
       "  <thead>\n",
       "    <tr style=\"text-align: right;\">\n",
       "      <th></th>\n",
       "      <th>_id</th>\n",
       "      <th>item</th>\n",
       "      <th>qty</th>\n",
       "      <th>size</th>\n",
       "      <th>status</th>\n",
       "    </tr>\n",
       "  </thead>\n",
       "  <tbody>\n",
       "    <tr>\n",
       "      <th>0</th>\n",
       "      <td>5dc36a9cdceb78041aba724e</td>\n",
       "      <td>journal</td>\n",
       "      <td>25</td>\n",
       "      <td>{'h': 14, 'w': 21, 'uom': 'cm'}</td>\n",
       "      <td>A</td>\n",
       "    </tr>\n",
       "    <tr>\n",
       "      <th>1</th>\n",
       "      <td>5dc36a9cdceb78041aba724f</td>\n",
       "      <td>notebook</td>\n",
       "      <td>50</td>\n",
       "      <td>{'h': 8.5, 'w': 11, 'uom': 'in'}</td>\n",
       "      <td>A</td>\n",
       "    </tr>\n",
       "    <tr>\n",
       "      <th>2</th>\n",
       "      <td>5dc36a9cdceb78041aba7252</td>\n",
       "      <td>postcard</td>\n",
       "      <td>45</td>\n",
       "      <td>{'h': 10, 'w': 15.25, 'uom': 'cm'}</td>\n",
       "      <td>A</td>\n",
       "    </tr>\n",
       "  </tbody>\n",
       "</table>\n",
       "</div>"
      ],
      "text/plain": [
       "                        _id      item  qty  \\\n",
       "0  5dc36a9cdceb78041aba724e   journal   25   \n",
       "1  5dc36a9cdceb78041aba724f  notebook   50   \n",
       "2  5dc36a9cdceb78041aba7252  postcard   45   \n",
       "\n",
       "                                 size status  \n",
       "0     {'h': 14, 'w': 21, 'uom': 'cm'}      A  \n",
       "1    {'h': 8.5, 'w': 11, 'uom': 'in'}      A  \n",
       "2  {'h': 10, 'w': 15.25, 'uom': 'cm'}      A  "
      ]
     },
     "execution_count": 20,
     "metadata": {},
     "output_type": "execute_result"
    }
   ],
   "source": [
    "cursor = db.inventory.find(\n",
    "    {\"$or\": [{\"status\": \"A\"}, {\"qty\": {\"$lt\": 30}}]})\n",
    "df1 = pd.DataFrame(list(cursor))\n",
    "df1.head(10)"
   ]
  },
  {
   "cell_type": "code",
   "execution_count": 21,
   "metadata": {},
   "outputs": [
    {
     "data": {
      "text/html": [
       "<div>\n",
       "<style scoped>\n",
       "    .dataframe tbody tr th:only-of-type {\n",
       "        vertical-align: middle;\n",
       "    }\n",
       "\n",
       "    .dataframe tbody tr th {\n",
       "        vertical-align: top;\n",
       "    }\n",
       "\n",
       "    .dataframe thead th {\n",
       "        text-align: right;\n",
       "    }\n",
       "</style>\n",
       "<table border=\"1\" class=\"dataframe\">\n",
       "  <thead>\n",
       "    <tr style=\"text-align: right;\">\n",
       "      <th></th>\n",
       "      <th>_id</th>\n",
       "      <th>item</th>\n",
       "      <th>qty</th>\n",
       "      <th>size</th>\n",
       "      <th>status</th>\n",
       "    </tr>\n",
       "  </thead>\n",
       "  <tbody>\n",
       "    <tr>\n",
       "      <th>0</th>\n",
       "      <td>5dc36a9cdceb78041aba724e</td>\n",
       "      <td>journal</td>\n",
       "      <td>25</td>\n",
       "      <td>{'h': 14, 'w': 21, 'uom': 'cm'}</td>\n",
       "      <td>A</td>\n",
       "    </tr>\n",
       "    <tr>\n",
       "      <th>1</th>\n",
       "      <td>5dc36a9cdceb78041aba7252</td>\n",
       "      <td>postcard</td>\n",
       "      <td>45</td>\n",
       "      <td>{'h': 10, 'w': 15.25, 'uom': 'cm'}</td>\n",
       "      <td>A</td>\n",
       "    </tr>\n",
       "  </tbody>\n",
       "</table>\n",
       "</div>"
      ],
      "text/plain": [
       "                        _id      item  qty  \\\n",
       "0  5dc36a9cdceb78041aba724e   journal   25   \n",
       "1  5dc36a9cdceb78041aba7252  postcard   45   \n",
       "\n",
       "                                 size status  \n",
       "0     {'h': 14, 'w': 21, 'uom': 'cm'}      A  \n",
       "1  {'h': 10, 'w': 15.25, 'uom': 'cm'}      A  "
      ]
     },
     "execution_count": 21,
     "metadata": {},
     "output_type": "execute_result"
    }
   ],
   "source": [
    "cursor = db.inventory.find({\n",
    "    \"status\": \"A\",\n",
    "    \"$or\": [{\"qty\": {\"$lt\": 30}}, {\"item\": {\"$regex\": \"^p\"}}]})\n",
    "df1 = pd.DataFrame(list(cursor))\n",
    "df1.head(10)"
   ]
  },
  {
   "cell_type": "code",
   "execution_count": 22,
   "metadata": {},
   "outputs": [
    {
     "data": {
      "text/plain": [
       "<pymongo.results.InsertManyResult at 0x1189c7348>"
      ]
     },
     "execution_count": 22,
     "metadata": {},
     "output_type": "execute_result"
    }
   ],
   "source": [
    "db.inventory.drop()\n",
    "from bson.son import SON\n",
    "db.inventory.insert_many([\n",
    "    {\"item\": \"journal\",\n",
    "     \"qty\": 25,\n",
    "     \"size\": SON([(\"h\", 14), (\"w\", 21), (\"uom\", \"cm\")]),\n",
    "     \"status\": \"A\"},\n",
    "    {\"item\": \"notebook\",\n",
    "     \"qty\": 50,\n",
    "     \"size\": SON([(\"h\", 8.5), (\"w\", 11), (\"uom\", \"in\")]),\n",
    "     \"status\": \"A\"},\n",
    "    {\"item\": \"paper\",\n",
    "     \"qty\": 100,\n",
    "     \"size\": SON([(\"h\", 8.5), (\"w\", 11), (\"uom\", \"in\")]),\n",
    "     \"status\": \"D\"},\n",
    "    {\"item\": \"planner\",\n",
    "     \"qty\": 75,\n",
    "     \"size\": SON([(\"h\", 22.85), (\"w\", 30), (\"uom\", \"cm\")]),\n",
    "     \"status\": \"D\"},\n",
    "    {\"item\": \"postcard\",\n",
    "     \"qty\": 45,\n",
    "     \"size\": SON([(\"h\", 10), (\"w\", 15.25), (\"uom\", \"cm\")]),\n",
    "     \"status\": \"A\"}])"
   ]
  },
  {
   "cell_type": "markdown",
   "metadata": {},
   "source": [
    "##### Match an Embedded/Nested Document\n",
    "1. To specify an equality condition on a field that is an embedded/nested document, use the query filter document { <field>: <value> } where <value> is the document to match.\n",
    "For example, the following query selects all documents where the field size equals the document { h: 14, w: 21, uom: \"cm\" }:"
   ]
  },
  {
   "cell_type": "code",
   "execution_count": 23,
   "metadata": {},
   "outputs": [
    {
     "data": {
      "text/html": [
       "<div>\n",
       "<style scoped>\n",
       "    .dataframe tbody tr th:only-of-type {\n",
       "        vertical-align: middle;\n",
       "    }\n",
       "\n",
       "    .dataframe tbody tr th {\n",
       "        vertical-align: top;\n",
       "    }\n",
       "\n",
       "    .dataframe thead th {\n",
       "        text-align: right;\n",
       "    }\n",
       "</style>\n",
       "<table border=\"1\" class=\"dataframe\">\n",
       "  <thead>\n",
       "    <tr style=\"text-align: right;\">\n",
       "      <th></th>\n",
       "      <th>_id</th>\n",
       "      <th>item</th>\n",
       "      <th>qty</th>\n",
       "      <th>size</th>\n",
       "      <th>status</th>\n",
       "    </tr>\n",
       "  </thead>\n",
       "  <tbody>\n",
       "    <tr>\n",
       "      <th>0</th>\n",
       "      <td>5dc36ac0dceb78041aba7253</td>\n",
       "      <td>journal</td>\n",
       "      <td>25</td>\n",
       "      <td>{'h': 14, 'w': 21, 'uom': 'cm'}</td>\n",
       "      <td>A</td>\n",
       "    </tr>\n",
       "  </tbody>\n",
       "</table>\n",
       "</div>"
      ],
      "text/plain": [
       "                        _id     item  qty                             size  \\\n",
       "0  5dc36ac0dceb78041aba7253  journal   25  {'h': 14, 'w': 21, 'uom': 'cm'}   \n",
       "\n",
       "  status  \n",
       "0      A  "
      ]
     },
     "execution_count": 23,
     "metadata": {},
     "output_type": "execute_result"
    }
   ],
   "source": [
    "cursor = db.inventory.find(\n",
    "    {\"size\": SON([(\"h\", 14), (\"w\", 21), (\"uom\", \"cm\")])})\n",
    "df1 = pd.DataFrame(list(cursor))\n",
    "df1.head(10)"
   ]
  },
  {
   "cell_type": "code",
   "execution_count": 24,
   "metadata": {},
   "outputs": [],
   "source": [
    "cursor = db.inventory.find(\n",
    "    {\"size\": SON([(\"w\", 21), (\"h\", 14), (\"uom\", \"cm\")])})"
   ]
  },
  {
   "cell_type": "markdown",
   "metadata": {},
   "source": [
    "##### Query on Nested Field\n",
    "1. To specify a query condition on fields in an embedded/nested document, use dot notation (\"field.nestedField\")."
   ]
  },
  {
   "cell_type": "code",
   "execution_count": 25,
   "metadata": {},
   "outputs": [
    {
     "data": {
      "text/html": [
       "<div>\n",
       "<style scoped>\n",
       "    .dataframe tbody tr th:only-of-type {\n",
       "        vertical-align: middle;\n",
       "    }\n",
       "\n",
       "    .dataframe tbody tr th {\n",
       "        vertical-align: top;\n",
       "    }\n",
       "\n",
       "    .dataframe thead th {\n",
       "        text-align: right;\n",
       "    }\n",
       "</style>\n",
       "<table border=\"1\" class=\"dataframe\">\n",
       "  <thead>\n",
       "    <tr style=\"text-align: right;\">\n",
       "      <th></th>\n",
       "      <th>_id</th>\n",
       "      <th>item</th>\n",
       "      <th>qty</th>\n",
       "      <th>size</th>\n",
       "      <th>status</th>\n",
       "    </tr>\n",
       "  </thead>\n",
       "  <tbody>\n",
       "    <tr>\n",
       "      <th>0</th>\n",
       "      <td>5dc36ac0dceb78041aba7254</td>\n",
       "      <td>notebook</td>\n",
       "      <td>50</td>\n",
       "      <td>{'h': 8.5, 'w': 11, 'uom': 'in'}</td>\n",
       "      <td>A</td>\n",
       "    </tr>\n",
       "    <tr>\n",
       "      <th>1</th>\n",
       "      <td>5dc36ac0dceb78041aba7255</td>\n",
       "      <td>paper</td>\n",
       "      <td>100</td>\n",
       "      <td>{'h': 8.5, 'w': 11, 'uom': 'in'}</td>\n",
       "      <td>D</td>\n",
       "    </tr>\n",
       "  </tbody>\n",
       "</table>\n",
       "</div>"
      ],
      "text/plain": [
       "                        _id      item  qty                              size  \\\n",
       "0  5dc36ac0dceb78041aba7254  notebook   50  {'h': 8.5, 'w': 11, 'uom': 'in'}   \n",
       "1  5dc36ac0dceb78041aba7255     paper  100  {'h': 8.5, 'w': 11, 'uom': 'in'}   \n",
       "\n",
       "  status  \n",
       "0      A  \n",
       "1      D  "
      ]
     },
     "execution_count": 25,
     "metadata": {},
     "output_type": "execute_result"
    }
   ],
   "source": [
    "cursor = db.inventory.find({\"size.uom\": \"in\"})\n",
    "df1 = pd.DataFrame(list(cursor))\n",
    "df1.head(10)"
   ]
  },
  {
   "cell_type": "code",
   "execution_count": 26,
   "metadata": {},
   "outputs": [
    {
     "data": {
      "text/html": [
       "<div>\n",
       "<style scoped>\n",
       "    .dataframe tbody tr th:only-of-type {\n",
       "        vertical-align: middle;\n",
       "    }\n",
       "\n",
       "    .dataframe tbody tr th {\n",
       "        vertical-align: top;\n",
       "    }\n",
       "\n",
       "    .dataframe thead th {\n",
       "        text-align: right;\n",
       "    }\n",
       "</style>\n",
       "<table border=\"1\" class=\"dataframe\">\n",
       "  <thead>\n",
       "    <tr style=\"text-align: right;\">\n",
       "      <th></th>\n",
       "      <th>_id</th>\n",
       "      <th>item</th>\n",
       "      <th>qty</th>\n",
       "      <th>size</th>\n",
       "      <th>status</th>\n",
       "    </tr>\n",
       "  </thead>\n",
       "  <tbody>\n",
       "    <tr>\n",
       "      <th>0</th>\n",
       "      <td>5dc36ac0dceb78041aba7253</td>\n",
       "      <td>journal</td>\n",
       "      <td>25</td>\n",
       "      <td>{'h': 14, 'w': 21, 'uom': 'cm'}</td>\n",
       "      <td>A</td>\n",
       "    </tr>\n",
       "    <tr>\n",
       "      <th>1</th>\n",
       "      <td>5dc36ac0dceb78041aba7254</td>\n",
       "      <td>notebook</td>\n",
       "      <td>50</td>\n",
       "      <td>{'h': 8.5, 'w': 11, 'uom': 'in'}</td>\n",
       "      <td>A</td>\n",
       "    </tr>\n",
       "    <tr>\n",
       "      <th>2</th>\n",
       "      <td>5dc36ac0dceb78041aba7255</td>\n",
       "      <td>paper</td>\n",
       "      <td>100</td>\n",
       "      <td>{'h': 8.5, 'w': 11, 'uom': 'in'}</td>\n",
       "      <td>D</td>\n",
       "    </tr>\n",
       "    <tr>\n",
       "      <th>3</th>\n",
       "      <td>5dc36ac0dceb78041aba7257</td>\n",
       "      <td>postcard</td>\n",
       "      <td>45</td>\n",
       "      <td>{'h': 10, 'w': 15.25, 'uom': 'cm'}</td>\n",
       "      <td>A</td>\n",
       "    </tr>\n",
       "  </tbody>\n",
       "</table>\n",
       "</div>"
      ],
      "text/plain": [
       "                        _id      item  qty  \\\n",
       "0  5dc36ac0dceb78041aba7253   journal   25   \n",
       "1  5dc36ac0dceb78041aba7254  notebook   50   \n",
       "2  5dc36ac0dceb78041aba7255     paper  100   \n",
       "3  5dc36ac0dceb78041aba7257  postcard   45   \n",
       "\n",
       "                                 size status  \n",
       "0     {'h': 14, 'w': 21, 'uom': 'cm'}      A  \n",
       "1    {'h': 8.5, 'w': 11, 'uom': 'in'}      A  \n",
       "2    {'h': 8.5, 'w': 11, 'uom': 'in'}      D  \n",
       "3  {'h': 10, 'w': 15.25, 'uom': 'cm'}      A  "
      ]
     },
     "execution_count": 26,
     "metadata": {},
     "output_type": "execute_result"
    }
   ],
   "source": [
    "cursor = db.inventory.find({\"size.h\": {\"$lt\": 15}})\n",
    "df1 = pd.DataFrame(list(cursor))\n",
    "df1.head(10)"
   ]
  },
  {
   "cell_type": "code",
   "execution_count": 27,
   "metadata": {},
   "outputs": [
    {
     "data": {
      "text/html": [
       "<div>\n",
       "<style scoped>\n",
       "    .dataframe tbody tr th:only-of-type {\n",
       "        vertical-align: middle;\n",
       "    }\n",
       "\n",
       "    .dataframe tbody tr th {\n",
       "        vertical-align: top;\n",
       "    }\n",
       "\n",
       "    .dataframe thead th {\n",
       "        text-align: right;\n",
       "    }\n",
       "</style>\n",
       "<table border=\"1\" class=\"dataframe\">\n",
       "  <thead>\n",
       "    <tr style=\"text-align: right;\">\n",
       "      <th></th>\n",
       "      <th>_id</th>\n",
       "      <th>item</th>\n",
       "      <th>qty</th>\n",
       "      <th>size</th>\n",
       "      <th>status</th>\n",
       "    </tr>\n",
       "  </thead>\n",
       "  <tbody>\n",
       "    <tr>\n",
       "      <th>0</th>\n",
       "      <td>5dc36ac0dceb78041aba7255</td>\n",
       "      <td>paper</td>\n",
       "      <td>100</td>\n",
       "      <td>{'h': 8.5, 'w': 11, 'uom': 'in'}</td>\n",
       "      <td>D</td>\n",
       "    </tr>\n",
       "  </tbody>\n",
       "</table>\n",
       "</div>"
      ],
      "text/plain": [
       "                        _id   item  qty                              size  \\\n",
       "0  5dc36ac0dceb78041aba7255  paper  100  {'h': 8.5, 'w': 11, 'uom': 'in'}   \n",
       "\n",
       "  status  \n",
       "0      D  "
      ]
     },
     "execution_count": 27,
     "metadata": {},
     "output_type": "execute_result"
    }
   ],
   "source": [
    "cursor = db.inventory.find(\n",
    "    {\"size.h\": {\"$lt\": 15}, \"size.uom\": \"in\", \"status\": \"D\"})\n",
    "df1 = pd.DataFrame(list(cursor))\n",
    "df1.head(10)"
   ]
  },
  {
   "cell_type": "markdown",
   "metadata": {},
   "source": [
    "#### Query an Array"
   ]
  },
  {
   "cell_type": "code",
   "execution_count": 28,
   "metadata": {},
   "outputs": [
    {
     "data": {
      "text/plain": [
       "<pymongo.results.InsertManyResult at 0x1189ffdc8>"
      ]
     },
     "execution_count": 28,
     "metadata": {},
     "output_type": "execute_result"
    }
   ],
   "source": [
    "db.inventory.drop()\n",
    "db.inventory.insert_many([\n",
    "    {\"item\": \"journal\",\n",
    "     \"qty\": 25,\n",
    "     \"tags\": [\"blank\", \"red\"],\n",
    "     \"dim_cm\": [14, 21]},\n",
    "    {\"item\": \"notebook\",\n",
    "     \"qty\": 50,\n",
    "     \"tags\": [\"red\", \"blank\"],\n",
    "     \"dim_cm\": [14, 21]},\n",
    "    {\"item\": \"paper\",\n",
    "     \"qty\": 100,\n",
    "     \"tags\": [\"red\", \"blank\", \"plain\"],\n",
    "     \"dim_cm\": [14, 21]},\n",
    "    {\"item\": \"planner\",\n",
    "     \"qty\": 75,\n",
    "     \"tags\": [\"blank\", \"red\"],\n",
    "     \"dim_cm\": [22.85, 30]},\n",
    "    {\"item\": \"postcard\",\n",
    "     \"qty\": 45,\n",
    "     \"tags\": [\"blue\"],\n",
    "     \"dim_cm\": [10, 15.25]}])"
   ]
  },
  {
   "cell_type": "markdown",
   "metadata": {},
   "source": [
    "##### Match an Array\n",
    "1. The following example queries for all documents where the field tags value is an array with exactly two elements, \"red\" and \"blank\", in the specified order:"
   ]
  },
  {
   "cell_type": "code",
   "execution_count": 29,
   "metadata": {},
   "outputs": [
    {
     "data": {
      "text/html": [
       "<div>\n",
       "<style scoped>\n",
       "    .dataframe tbody tr th:only-of-type {\n",
       "        vertical-align: middle;\n",
       "    }\n",
       "\n",
       "    .dataframe tbody tr th {\n",
       "        vertical-align: top;\n",
       "    }\n",
       "\n",
       "    .dataframe thead th {\n",
       "        text-align: right;\n",
       "    }\n",
       "</style>\n",
       "<table border=\"1\" class=\"dataframe\">\n",
       "  <thead>\n",
       "    <tr style=\"text-align: right;\">\n",
       "      <th></th>\n",
       "      <th>_id</th>\n",
       "      <th>dim_cm</th>\n",
       "      <th>item</th>\n",
       "      <th>qty</th>\n",
       "      <th>tags</th>\n",
       "    </tr>\n",
       "  </thead>\n",
       "  <tbody>\n",
       "    <tr>\n",
       "      <th>0</th>\n",
       "      <td>5dc36ac6dceb78041aba7259</td>\n",
       "      <td>[14, 21]</td>\n",
       "      <td>notebook</td>\n",
       "      <td>50</td>\n",
       "      <td>[red, blank]</td>\n",
       "    </tr>\n",
       "  </tbody>\n",
       "</table>\n",
       "</div>"
      ],
      "text/plain": [
       "                        _id    dim_cm      item  qty          tags\n",
       "0  5dc36ac6dceb78041aba7259  [14, 21]  notebook   50  [red, blank]"
      ]
     },
     "execution_count": 29,
     "metadata": {},
     "output_type": "execute_result"
    }
   ],
   "source": [
    "cursor = db.inventory.find({\"tags\": [\"red\", \"blank\"]})\n",
    "df1 = pd.DataFrame(list(cursor))\n",
    "df1.head(10)"
   ]
  },
  {
   "cell_type": "markdown",
   "metadata": {},
   "source": [
    "##### \n",
    "1. If, instead, you wish to find an array that contains both the elements \"red\" and \"blank\", without regard to order or other elements in the array, use the $all operator:"
   ]
  },
  {
   "cell_type": "code",
   "execution_count": 30,
   "metadata": {},
   "outputs": [
    {
     "data": {
      "text/html": [
       "<div>\n",
       "<style scoped>\n",
       "    .dataframe tbody tr th:only-of-type {\n",
       "        vertical-align: middle;\n",
       "    }\n",
       "\n",
       "    .dataframe tbody tr th {\n",
       "        vertical-align: top;\n",
       "    }\n",
       "\n",
       "    .dataframe thead th {\n",
       "        text-align: right;\n",
       "    }\n",
       "</style>\n",
       "<table border=\"1\" class=\"dataframe\">\n",
       "  <thead>\n",
       "    <tr style=\"text-align: right;\">\n",
       "      <th></th>\n",
       "      <th>_id</th>\n",
       "      <th>dim_cm</th>\n",
       "      <th>item</th>\n",
       "      <th>qty</th>\n",
       "      <th>tags</th>\n",
       "    </tr>\n",
       "  </thead>\n",
       "  <tbody>\n",
       "    <tr>\n",
       "      <th>0</th>\n",
       "      <td>5dc36ac6dceb78041aba7258</td>\n",
       "      <td>[14, 21]</td>\n",
       "      <td>journal</td>\n",
       "      <td>25</td>\n",
       "      <td>[blank, red]</td>\n",
       "    </tr>\n",
       "    <tr>\n",
       "      <th>1</th>\n",
       "      <td>5dc36ac6dceb78041aba7259</td>\n",
       "      <td>[14, 21]</td>\n",
       "      <td>notebook</td>\n",
       "      <td>50</td>\n",
       "      <td>[red, blank]</td>\n",
       "    </tr>\n",
       "    <tr>\n",
       "      <th>2</th>\n",
       "      <td>5dc36ac6dceb78041aba725a</td>\n",
       "      <td>[14, 21]</td>\n",
       "      <td>paper</td>\n",
       "      <td>100</td>\n",
       "      <td>[red, blank, plain]</td>\n",
       "    </tr>\n",
       "    <tr>\n",
       "      <th>3</th>\n",
       "      <td>5dc36ac6dceb78041aba725b</td>\n",
       "      <td>[22.85, 30]</td>\n",
       "      <td>planner</td>\n",
       "      <td>75</td>\n",
       "      <td>[blank, red]</td>\n",
       "    </tr>\n",
       "  </tbody>\n",
       "</table>\n",
       "</div>"
      ],
      "text/plain": [
       "                        _id       dim_cm      item  qty                 tags\n",
       "0  5dc36ac6dceb78041aba7258     [14, 21]   journal   25         [blank, red]\n",
       "1  5dc36ac6dceb78041aba7259     [14, 21]  notebook   50         [red, blank]\n",
       "2  5dc36ac6dceb78041aba725a     [14, 21]     paper  100  [red, blank, plain]\n",
       "3  5dc36ac6dceb78041aba725b  [22.85, 30]   planner   75         [blank, red]"
      ]
     },
     "execution_count": 30,
     "metadata": {},
     "output_type": "execute_result"
    }
   ],
   "source": [
    "cursor = db.inventory.find({\"tags\": {\"$all\": [\"red\", \"blank\"]}})\n",
    "df1 = pd.DataFrame(list(cursor))\n",
    "df1.head(10)"
   ]
  },
  {
   "cell_type": "markdown",
   "metadata": {},
   "source": [
    "##### Query an Array for an Element\n",
    "1. To query if the array field contains at least one element with the specified value, use the filter { <field>: <value> } where <value> is the element value."
   ]
  },
  {
   "cell_type": "code",
   "execution_count": 31,
   "metadata": {},
   "outputs": [
    {
     "data": {
      "text/html": [
       "<div>\n",
       "<style scoped>\n",
       "    .dataframe tbody tr th:only-of-type {\n",
       "        vertical-align: middle;\n",
       "    }\n",
       "\n",
       "    .dataframe tbody tr th {\n",
       "        vertical-align: top;\n",
       "    }\n",
       "\n",
       "    .dataframe thead th {\n",
       "        text-align: right;\n",
       "    }\n",
       "</style>\n",
       "<table border=\"1\" class=\"dataframe\">\n",
       "  <thead>\n",
       "    <tr style=\"text-align: right;\">\n",
       "      <th></th>\n",
       "      <th>_id</th>\n",
       "      <th>dim_cm</th>\n",
       "      <th>item</th>\n",
       "      <th>qty</th>\n",
       "      <th>tags</th>\n",
       "    </tr>\n",
       "  </thead>\n",
       "  <tbody>\n",
       "    <tr>\n",
       "      <th>0</th>\n",
       "      <td>5dc36ac6dceb78041aba7258</td>\n",
       "      <td>[14, 21]</td>\n",
       "      <td>journal</td>\n",
       "      <td>25</td>\n",
       "      <td>[blank, red]</td>\n",
       "    </tr>\n",
       "    <tr>\n",
       "      <th>1</th>\n",
       "      <td>5dc36ac6dceb78041aba7259</td>\n",
       "      <td>[14, 21]</td>\n",
       "      <td>notebook</td>\n",
       "      <td>50</td>\n",
       "      <td>[red, blank]</td>\n",
       "    </tr>\n",
       "    <tr>\n",
       "      <th>2</th>\n",
       "      <td>5dc36ac6dceb78041aba725a</td>\n",
       "      <td>[14, 21]</td>\n",
       "      <td>paper</td>\n",
       "      <td>100</td>\n",
       "      <td>[red, blank, plain]</td>\n",
       "    </tr>\n",
       "    <tr>\n",
       "      <th>3</th>\n",
       "      <td>5dc36ac6dceb78041aba725b</td>\n",
       "      <td>[22.85, 30]</td>\n",
       "      <td>planner</td>\n",
       "      <td>75</td>\n",
       "      <td>[blank, red]</td>\n",
       "    </tr>\n",
       "  </tbody>\n",
       "</table>\n",
       "</div>"
      ],
      "text/plain": [
       "                        _id       dim_cm      item  qty                 tags\n",
       "0  5dc36ac6dceb78041aba7258     [14, 21]   journal   25         [blank, red]\n",
       "1  5dc36ac6dceb78041aba7259     [14, 21]  notebook   50         [red, blank]\n",
       "2  5dc36ac6dceb78041aba725a     [14, 21]     paper  100  [red, blank, plain]\n",
       "3  5dc36ac6dceb78041aba725b  [22.85, 30]   planner   75         [blank, red]"
      ]
     },
     "execution_count": 31,
     "metadata": {},
     "output_type": "execute_result"
    }
   ],
   "source": [
    "cursor = db.inventory.find({\"tags\": \"red\"})\n",
    "df1 = pd.DataFrame(list(cursor))\n",
    "df1.head(10)"
   ]
  },
  {
   "cell_type": "code",
   "execution_count": 32,
   "metadata": {},
   "outputs": [
    {
     "data": {
      "text/html": [
       "<div>\n",
       "<style scoped>\n",
       "    .dataframe tbody tr th:only-of-type {\n",
       "        vertical-align: middle;\n",
       "    }\n",
       "\n",
       "    .dataframe tbody tr th {\n",
       "        vertical-align: top;\n",
       "    }\n",
       "\n",
       "    .dataframe thead th {\n",
       "        text-align: right;\n",
       "    }\n",
       "</style>\n",
       "<table border=\"1\" class=\"dataframe\">\n",
       "  <thead>\n",
       "    <tr style=\"text-align: right;\">\n",
       "      <th></th>\n",
       "      <th>_id</th>\n",
       "      <th>dim_cm</th>\n",
       "      <th>item</th>\n",
       "      <th>qty</th>\n",
       "      <th>tags</th>\n",
       "    </tr>\n",
       "  </thead>\n",
       "  <tbody>\n",
       "    <tr>\n",
       "      <th>0</th>\n",
       "      <td>5dc36ac6dceb78041aba725b</td>\n",
       "      <td>[22.85, 30]</td>\n",
       "      <td>planner</td>\n",
       "      <td>75</td>\n",
       "      <td>[blank, red]</td>\n",
       "    </tr>\n",
       "  </tbody>\n",
       "</table>\n",
       "</div>"
      ],
      "text/plain": [
       "                        _id       dim_cm     item  qty          tags\n",
       "0  5dc36ac6dceb78041aba725b  [22.85, 30]  planner   75  [blank, red]"
      ]
     },
     "execution_count": 32,
     "metadata": {},
     "output_type": "execute_result"
    }
   ],
   "source": [
    "cursor = db.inventory.find({\"dim_cm\": {\"$gt\": 25}})\n",
    "df1 = pd.DataFrame(list(cursor))\n",
    "df1.head(10)"
   ]
  },
  {
   "cell_type": "markdown",
   "metadata": {},
   "source": [
    "##### Specify Multiple Conditions for Array Elements"
   ]
  },
  {
   "cell_type": "code",
   "execution_count": 33,
   "metadata": {
    "scrolled": true
   },
   "outputs": [
    {
     "data": {
      "text/html": [
       "<div>\n",
       "<style scoped>\n",
       "    .dataframe tbody tr th:only-of-type {\n",
       "        vertical-align: middle;\n",
       "    }\n",
       "\n",
       "    .dataframe tbody tr th {\n",
       "        vertical-align: top;\n",
       "    }\n",
       "\n",
       "    .dataframe thead th {\n",
       "        text-align: right;\n",
       "    }\n",
       "</style>\n",
       "<table border=\"1\" class=\"dataframe\">\n",
       "  <thead>\n",
       "    <tr style=\"text-align: right;\">\n",
       "      <th></th>\n",
       "      <th>_id</th>\n",
       "      <th>dim_cm</th>\n",
       "      <th>item</th>\n",
       "      <th>qty</th>\n",
       "      <th>tags</th>\n",
       "    </tr>\n",
       "  </thead>\n",
       "  <tbody>\n",
       "    <tr>\n",
       "      <th>0</th>\n",
       "      <td>5dc36ac6dceb78041aba7258</td>\n",
       "      <td>[14, 21]</td>\n",
       "      <td>journal</td>\n",
       "      <td>25</td>\n",
       "      <td>[blank, red]</td>\n",
       "    </tr>\n",
       "    <tr>\n",
       "      <th>1</th>\n",
       "      <td>5dc36ac6dceb78041aba7259</td>\n",
       "      <td>[14, 21]</td>\n",
       "      <td>notebook</td>\n",
       "      <td>50</td>\n",
       "      <td>[red, blank]</td>\n",
       "    </tr>\n",
       "    <tr>\n",
       "      <th>2</th>\n",
       "      <td>5dc36ac6dceb78041aba725a</td>\n",
       "      <td>[14, 21]</td>\n",
       "      <td>paper</td>\n",
       "      <td>100</td>\n",
       "      <td>[red, blank, plain]</td>\n",
       "    </tr>\n",
       "    <tr>\n",
       "      <th>3</th>\n",
       "      <td>5dc36ac6dceb78041aba725c</td>\n",
       "      <td>[10, 15.25]</td>\n",
       "      <td>postcard</td>\n",
       "      <td>45</td>\n",
       "      <td>[blue]</td>\n",
       "    </tr>\n",
       "  </tbody>\n",
       "</table>\n",
       "</div>"
      ],
      "text/plain": [
       "                        _id       dim_cm      item  qty                 tags\n",
       "0  5dc36ac6dceb78041aba7258     [14, 21]   journal   25         [blank, red]\n",
       "1  5dc36ac6dceb78041aba7259     [14, 21]  notebook   50         [red, blank]\n",
       "2  5dc36ac6dceb78041aba725a     [14, 21]     paper  100  [red, blank, plain]\n",
       "3  5dc36ac6dceb78041aba725c  [10, 15.25]  postcard   45               [blue]"
      ]
     },
     "execution_count": 33,
     "metadata": {},
     "output_type": "execute_result"
    }
   ],
   "source": [
    "cursor = db.inventory.find({\"dim_cm\": {\"$gt\": 15, \"$lt\": 20}})\n",
    "df1 = pd.DataFrame(list(cursor))\n",
    "df1.head(10)"
   ]
  },
  {
   "cell_type": "markdown",
   "metadata": {},
   "source": [
    "Use $elemMatch operator to specify multiple criteria on the elements of an array such that at least one array element satisfies all the specified criteria."
   ]
  },
  {
   "cell_type": "code",
   "execution_count": 34,
   "metadata": {},
   "outputs": [
    {
     "data": {
      "text/html": [
       "<div>\n",
       "<style scoped>\n",
       "    .dataframe tbody tr th:only-of-type {\n",
       "        vertical-align: middle;\n",
       "    }\n",
       "\n",
       "    .dataframe tbody tr th {\n",
       "        vertical-align: top;\n",
       "    }\n",
       "\n",
       "    .dataframe thead th {\n",
       "        text-align: right;\n",
       "    }\n",
       "</style>\n",
       "<table border=\"1\" class=\"dataframe\">\n",
       "  <thead>\n",
       "    <tr style=\"text-align: right;\">\n",
       "      <th></th>\n",
       "      <th>_id</th>\n",
       "      <th>dim_cm</th>\n",
       "      <th>item</th>\n",
       "      <th>qty</th>\n",
       "      <th>tags</th>\n",
       "    </tr>\n",
       "  </thead>\n",
       "  <tbody>\n",
       "    <tr>\n",
       "      <th>0</th>\n",
       "      <td>5dc36ac6dceb78041aba725b</td>\n",
       "      <td>[22.85, 30]</td>\n",
       "      <td>planner</td>\n",
       "      <td>75</td>\n",
       "      <td>[blank, red]</td>\n",
       "    </tr>\n",
       "  </tbody>\n",
       "</table>\n",
       "</div>"
      ],
      "text/plain": [
       "                        _id       dim_cm     item  qty          tags\n",
       "0  5dc36ac6dceb78041aba725b  [22.85, 30]  planner   75  [blank, red]"
      ]
     },
     "execution_count": 34,
     "metadata": {},
     "output_type": "execute_result"
    }
   ],
   "source": [
    "cursor = db.inventory.find(\n",
    "    {\"dim_cm\": {\"$elemMatch\": {\"$gt\": 22, \"$lt\": 30}}})\n",
    "df1 = pd.DataFrame(list(cursor))\n",
    "df1.head(10)"
   ]
  },
  {
   "cell_type": "code",
   "execution_count": 35,
   "metadata": {},
   "outputs": [
    {
     "data": {
      "text/html": [
       "<div>\n",
       "<style scoped>\n",
       "    .dataframe tbody tr th:only-of-type {\n",
       "        vertical-align: middle;\n",
       "    }\n",
       "\n",
       "    .dataframe tbody tr th {\n",
       "        vertical-align: top;\n",
       "    }\n",
       "\n",
       "    .dataframe thead th {\n",
       "        text-align: right;\n",
       "    }\n",
       "</style>\n",
       "<table border=\"1\" class=\"dataframe\">\n",
       "  <thead>\n",
       "    <tr style=\"text-align: right;\">\n",
       "      <th></th>\n",
       "      <th>_id</th>\n",
       "      <th>dim_cm</th>\n",
       "      <th>item</th>\n",
       "      <th>qty</th>\n",
       "      <th>tags</th>\n",
       "    </tr>\n",
       "  </thead>\n",
       "  <tbody>\n",
       "    <tr>\n",
       "      <th>0</th>\n",
       "      <td>5dc36ac6dceb78041aba725b</td>\n",
       "      <td>[22.85, 30]</td>\n",
       "      <td>planner</td>\n",
       "      <td>75</td>\n",
       "      <td>[blank, red]</td>\n",
       "    </tr>\n",
       "  </tbody>\n",
       "</table>\n",
       "</div>"
      ],
      "text/plain": [
       "                        _id       dim_cm     item  qty          tags\n",
       "0  5dc36ac6dceb78041aba725b  [22.85, 30]  planner   75  [blank, red]"
      ]
     },
     "execution_count": 35,
     "metadata": {},
     "output_type": "execute_result"
    }
   ],
   "source": [
    "cursor = db.inventory.find({\"dim_cm.1\": {\"$gt\": 25}})\n",
    "df1 = pd.DataFrame(list(cursor))\n",
    "df1.head(10)"
   ]
  },
  {
   "cell_type": "code",
   "execution_count": 36,
   "metadata": {},
   "outputs": [
    {
     "data": {
      "text/html": [
       "<div>\n",
       "<style scoped>\n",
       "    .dataframe tbody tr th:only-of-type {\n",
       "        vertical-align: middle;\n",
       "    }\n",
       "\n",
       "    .dataframe tbody tr th {\n",
       "        vertical-align: top;\n",
       "    }\n",
       "\n",
       "    .dataframe thead th {\n",
       "        text-align: right;\n",
       "    }\n",
       "</style>\n",
       "<table border=\"1\" class=\"dataframe\">\n",
       "  <thead>\n",
       "    <tr style=\"text-align: right;\">\n",
       "      <th></th>\n",
       "      <th>_id</th>\n",
       "      <th>dim_cm</th>\n",
       "      <th>item</th>\n",
       "      <th>qty</th>\n",
       "      <th>tags</th>\n",
       "    </tr>\n",
       "  </thead>\n",
       "  <tbody>\n",
       "    <tr>\n",
       "      <th>0</th>\n",
       "      <td>5dc36ac6dceb78041aba725a</td>\n",
       "      <td>[14, 21]</td>\n",
       "      <td>paper</td>\n",
       "      <td>100</td>\n",
       "      <td>[red, blank, plain]</td>\n",
       "    </tr>\n",
       "  </tbody>\n",
       "</table>\n",
       "</div>"
      ],
      "text/plain": [
       "                        _id    dim_cm   item  qty                 tags\n",
       "0  5dc36ac6dceb78041aba725a  [14, 21]  paper  100  [red, blank, plain]"
      ]
     },
     "execution_count": 36,
     "metadata": {},
     "output_type": "execute_result"
    }
   ],
   "source": [
    "cursor = db.inventory.find({\"tags\": {\"$size\": 3}})\n",
    "df1 = pd.DataFrame(list(cursor))\n",
    "df1.head(10)"
   ]
  },
  {
   "cell_type": "markdown",
   "metadata": {},
   "source": [
    "#### Query an Array of Embedded Documents"
   ]
  },
  {
   "cell_type": "code",
   "execution_count": 37,
   "metadata": {},
   "outputs": [
    {
     "data": {
      "text/plain": [
       "<pymongo.results.InsertManyResult at 0x118a0da88>"
      ]
     },
     "execution_count": 37,
     "metadata": {},
     "output_type": "execute_result"
    }
   ],
   "source": [
    "db.inventory.drop()\n",
    "db.inventory.insert_many([\n",
    "    {\"item\": \"journal\",\n",
    "     \"instock\": [\n",
    "         SON([(\"warehouse\", \"A\"), (\"qty\", 5)]),\n",
    "         SON([(\"warehouse\", \"C\"), (\"qty\", 15)])]},\n",
    "    {\"item\": \"notebook\",\n",
    "     \"instock\": [\n",
    "         SON([(\"warehouse\", \"C\"), (\"qty\", 5)])]},\n",
    "    {\"item\": \"paper\",\n",
    "     \"instock\": [\n",
    "         SON([(\"warehouse\", \"A\"), (\"qty\", 60)]),\n",
    "         SON([(\"warehouse\", \"B\"), (\"qty\", 15)])]},\n",
    "    {\"item\": \"planner\",\n",
    "     \"instock\": [\n",
    "         SON([(\"warehouse\", \"A\"), (\"qty\", 40)]),\n",
    "         SON([(\"warehouse\", \"B\"), (\"qty\", 5)])]},\n",
    "    {\"item\": \"postcard\",\n",
    "     \"instock\": [\n",
    "         SON([(\"warehouse\", \"B\"), (\"qty\", 15)]),\n",
    "         SON([(\"warehouse\", \"C\"), (\"qty\", 35)])]}])"
   ]
  },
  {
   "cell_type": "markdown",
   "metadata": {},
   "source": [
    "##### Query for a Document Nested in an Array\n",
    "1. Equality matches on the whole embedded/nested document require an exact match of the specified document, including the field order."
   ]
  },
  {
   "cell_type": "code",
   "execution_count": 38,
   "metadata": {},
   "outputs": [
    {
     "data": {
      "text/html": [
       "<style  type=\"text/css\" >\n",
       "    #T_e112de7a_00f8_11ea_8787_f21898361547row0_col1 {\n",
       "            width:  400px;\n",
       "        }</style>  \n",
       "<table id=\"T_e112de7a_00f8_11ea_8787_f21898361547\" > \n",
       "<thead>    <tr> \n",
       "        <th class=\"blank level0\" ></th> \n",
       "        <th class=\"col_heading level0 col0\" >_id</th> \n",
       "        <th class=\"col_heading level0 col1\" >instock</th> \n",
       "        <th class=\"col_heading level0 col2\" >item</th> \n",
       "    </tr></thead> \n",
       "<tbody>    <tr> \n",
       "        <th id=\"T_e112de7a_00f8_11ea_8787_f21898361547level0_row0\" class=\"row_heading level0 row0\" >0</th> \n",
       "        <td id=\"T_e112de7a_00f8_11ea_8787_f21898361547row0_col0\" class=\"data row0 col0\" >5dc36acedceb78041aba725d</td> \n",
       "        <td id=\"T_e112de7a_00f8_11ea_8787_f21898361547row0_col1\" class=\"data row0 col1\" >[{'warehouse': 'A', 'qty': 5}, {'warehouse': 'C', 'qty': 15}]</td> \n",
       "        <td id=\"T_e112de7a_00f8_11ea_8787_f21898361547row0_col2\" class=\"data row0 col2\" >journal</td> \n",
       "    </tr></tbody> \n",
       "</table> "
      ],
      "text/plain": [
       "<pandas.io.formats.style.Styler at 0x118a7a0b8>"
      ]
     },
     "execution_count": 38,
     "metadata": {},
     "output_type": "execute_result"
    }
   ],
   "source": [
    "cursor = db.inventory.find(\n",
    "    {\"instock\": SON([(\"warehouse\", \"A\"), (\"qty\", 5)])})\n",
    "df1 = pd.DataFrame(list(cursor))\n",
    "df1.style.set_properties(subset=['instock'], **{'width': '400px'})"
   ]
  },
  {
   "cell_type": "code",
   "execution_count": 39,
   "metadata": {},
   "outputs": [
    {
     "data": {
      "text/html": [
       "<div>\n",
       "<style scoped>\n",
       "    .dataframe tbody tr th:only-of-type {\n",
       "        vertical-align: middle;\n",
       "    }\n",
       "\n",
       "    .dataframe tbody tr th {\n",
       "        vertical-align: top;\n",
       "    }\n",
       "\n",
       "    .dataframe thead th {\n",
       "        text-align: right;\n",
       "    }\n",
       "</style>\n",
       "<table border=\"1\" class=\"dataframe\">\n",
       "  <thead>\n",
       "    <tr style=\"text-align: right;\">\n",
       "      <th></th>\n",
       "    </tr>\n",
       "  </thead>\n",
       "  <tbody>\n",
       "  </tbody>\n",
       "</table>\n",
       "</div>"
      ],
      "text/plain": [
       "Empty DataFrame\n",
       "Columns: []\n",
       "Index: []"
      ]
     },
     "execution_count": 39,
     "metadata": {},
     "output_type": "execute_result"
    }
   ],
   "source": [
    "cursor = db.inventory.find(\n",
    "    {\"instock\": SON([(\"qty\", 5), (\"warehouse\", \"A\")])})\n",
    "df1 = pd.DataFrame(list(cursor))\n",
    "df1.head(10)"
   ]
  },
  {
   "cell_type": "markdown",
   "metadata": {},
   "source": [
    "##### Specify a Query Condition on a Field in an Array of Documents"
   ]
  },
  {
   "cell_type": "code",
   "execution_count": 40,
   "metadata": {},
   "outputs": [
    {
     "data": {
      "text/html": [
       "<style  type=\"text/css\" >\n",
       "    #T_e59d8756_00f8_11ea_8787_f21898361547row0_col1 {\n",
       "            width:  400px;\n",
       "        }    #T_e59d8756_00f8_11ea_8787_f21898361547row1_col1 {\n",
       "            width:  400px;\n",
       "        }    #T_e59d8756_00f8_11ea_8787_f21898361547row2_col1 {\n",
       "            width:  400px;\n",
       "        }    #T_e59d8756_00f8_11ea_8787_f21898361547row3_col1 {\n",
       "            width:  400px;\n",
       "        }    #T_e59d8756_00f8_11ea_8787_f21898361547row4_col1 {\n",
       "            width:  400px;\n",
       "        }</style>  \n",
       "<table id=\"T_e59d8756_00f8_11ea_8787_f21898361547\" > \n",
       "<thead>    <tr> \n",
       "        <th class=\"blank level0\" ></th> \n",
       "        <th class=\"col_heading level0 col0\" >_id</th> \n",
       "        <th class=\"col_heading level0 col1\" >instock</th> \n",
       "        <th class=\"col_heading level0 col2\" >item</th> \n",
       "    </tr></thead> \n",
       "<tbody>    <tr> \n",
       "        <th id=\"T_e59d8756_00f8_11ea_8787_f21898361547level0_row0\" class=\"row_heading level0 row0\" >0</th> \n",
       "        <td id=\"T_e59d8756_00f8_11ea_8787_f21898361547row0_col0\" class=\"data row0 col0\" >5dc36acedceb78041aba725d</td> \n",
       "        <td id=\"T_e59d8756_00f8_11ea_8787_f21898361547row0_col1\" class=\"data row0 col1\" >[{'warehouse': 'A', 'qty': 5}, {'warehouse': 'C', 'qty': 15}]</td> \n",
       "        <td id=\"T_e59d8756_00f8_11ea_8787_f21898361547row0_col2\" class=\"data row0 col2\" >journal</td> \n",
       "    </tr>    <tr> \n",
       "        <th id=\"T_e59d8756_00f8_11ea_8787_f21898361547level0_row1\" class=\"row_heading level0 row1\" >1</th> \n",
       "        <td id=\"T_e59d8756_00f8_11ea_8787_f21898361547row1_col0\" class=\"data row1 col0\" >5dc36acedceb78041aba725e</td> \n",
       "        <td id=\"T_e59d8756_00f8_11ea_8787_f21898361547row1_col1\" class=\"data row1 col1\" >[{'warehouse': 'C', 'qty': 5}]</td> \n",
       "        <td id=\"T_e59d8756_00f8_11ea_8787_f21898361547row1_col2\" class=\"data row1 col2\" >notebook</td> \n",
       "    </tr>    <tr> \n",
       "        <th id=\"T_e59d8756_00f8_11ea_8787_f21898361547level0_row2\" class=\"row_heading level0 row2\" >2</th> \n",
       "        <td id=\"T_e59d8756_00f8_11ea_8787_f21898361547row2_col0\" class=\"data row2 col0\" >5dc36acedceb78041aba725f</td> \n",
       "        <td id=\"T_e59d8756_00f8_11ea_8787_f21898361547row2_col1\" class=\"data row2 col1\" >[{'warehouse': 'A', 'qty': 60}, {'warehouse': 'B', 'qty': 15}]</td> \n",
       "        <td id=\"T_e59d8756_00f8_11ea_8787_f21898361547row2_col2\" class=\"data row2 col2\" >paper</td> \n",
       "    </tr>    <tr> \n",
       "        <th id=\"T_e59d8756_00f8_11ea_8787_f21898361547level0_row3\" class=\"row_heading level0 row3\" >3</th> \n",
       "        <td id=\"T_e59d8756_00f8_11ea_8787_f21898361547row3_col0\" class=\"data row3 col0\" >5dc36acedceb78041aba7260</td> \n",
       "        <td id=\"T_e59d8756_00f8_11ea_8787_f21898361547row3_col1\" class=\"data row3 col1\" >[{'warehouse': 'A', 'qty': 40}, {'warehouse': 'B', 'qty': 5}]</td> \n",
       "        <td id=\"T_e59d8756_00f8_11ea_8787_f21898361547row3_col2\" class=\"data row3 col2\" >planner</td> \n",
       "    </tr>    <tr> \n",
       "        <th id=\"T_e59d8756_00f8_11ea_8787_f21898361547level0_row4\" class=\"row_heading level0 row4\" >4</th> \n",
       "        <td id=\"T_e59d8756_00f8_11ea_8787_f21898361547row4_col0\" class=\"data row4 col0\" >5dc36acedceb78041aba7261</td> \n",
       "        <td id=\"T_e59d8756_00f8_11ea_8787_f21898361547row4_col1\" class=\"data row4 col1\" >[{'warehouse': 'B', 'qty': 15}, {'warehouse': 'C', 'qty': 35}]</td> \n",
       "        <td id=\"T_e59d8756_00f8_11ea_8787_f21898361547row4_col2\" class=\"data row4 col2\" >postcard</td> \n",
       "    </tr></tbody> \n",
       "</table> "
      ],
      "text/plain": [
       "<pandas.io.formats.style.Styler at 0x11410b7f0>"
      ]
     },
     "execution_count": 40,
     "metadata": {},
     "output_type": "execute_result"
    }
   ],
   "source": [
    "cursor = db.inventory.find({'instock.qty': {\"$lte\": 20}})\n",
    "df1 = pd.DataFrame(list(cursor))\n",
    "df1.style.set_properties(subset=['instock'], **{'width': '400px'})"
   ]
  },
  {
   "cell_type": "code",
   "execution_count": 41,
   "metadata": {},
   "outputs": [
    {
     "data": {
      "text/html": [
       "<style  type=\"text/css\" >\n",
       "    #T_e637c76c_00f8_11ea_8787_f21898361547row0_col1 {\n",
       "            width:  400px;\n",
       "        }    #T_e637c76c_00f8_11ea_8787_f21898361547row1_col1 {\n",
       "            width:  400px;\n",
       "        }    #T_e637c76c_00f8_11ea_8787_f21898361547row2_col1 {\n",
       "            width:  400px;\n",
       "        }</style>  \n",
       "<table id=\"T_e637c76c_00f8_11ea_8787_f21898361547\" > \n",
       "<thead>    <tr> \n",
       "        <th class=\"blank level0\" ></th> \n",
       "        <th class=\"col_heading level0 col0\" >_id</th> \n",
       "        <th class=\"col_heading level0 col1\" >instock</th> \n",
       "        <th class=\"col_heading level0 col2\" >item</th> \n",
       "    </tr></thead> \n",
       "<tbody>    <tr> \n",
       "        <th id=\"T_e637c76c_00f8_11ea_8787_f21898361547level0_row0\" class=\"row_heading level0 row0\" >0</th> \n",
       "        <td id=\"T_e637c76c_00f8_11ea_8787_f21898361547row0_col0\" class=\"data row0 col0\" >5dc36acedceb78041aba725d</td> \n",
       "        <td id=\"T_e637c76c_00f8_11ea_8787_f21898361547row0_col1\" class=\"data row0 col1\" >[{'warehouse': 'A', 'qty': 5}, {'warehouse': 'C', 'qty': 15}]</td> \n",
       "        <td id=\"T_e637c76c_00f8_11ea_8787_f21898361547row0_col2\" class=\"data row0 col2\" >journal</td> \n",
       "    </tr>    <tr> \n",
       "        <th id=\"T_e637c76c_00f8_11ea_8787_f21898361547level0_row1\" class=\"row_heading level0 row1\" >1</th> \n",
       "        <td id=\"T_e637c76c_00f8_11ea_8787_f21898361547row1_col0\" class=\"data row1 col0\" >5dc36acedceb78041aba725e</td> \n",
       "        <td id=\"T_e637c76c_00f8_11ea_8787_f21898361547row1_col1\" class=\"data row1 col1\" >[{'warehouse': 'C', 'qty': 5}]</td> \n",
       "        <td id=\"T_e637c76c_00f8_11ea_8787_f21898361547row1_col2\" class=\"data row1 col2\" >notebook</td> \n",
       "    </tr>    <tr> \n",
       "        <th id=\"T_e637c76c_00f8_11ea_8787_f21898361547level0_row2\" class=\"row_heading level0 row2\" >2</th> \n",
       "        <td id=\"T_e637c76c_00f8_11ea_8787_f21898361547row2_col0\" class=\"data row2 col0\" >5dc36acedceb78041aba7261</td> \n",
       "        <td id=\"T_e637c76c_00f8_11ea_8787_f21898361547row2_col1\" class=\"data row2 col1\" >[{'warehouse': 'B', 'qty': 15}, {'warehouse': 'C', 'qty': 35}]</td> \n",
       "        <td id=\"T_e637c76c_00f8_11ea_8787_f21898361547row2_col2\" class=\"data row2 col2\" >postcard</td> \n",
       "    </tr></tbody> \n",
       "</table> "
      ],
      "text/plain": [
       "<pandas.io.formats.style.Styler at 0x118a7a278>"
      ]
     },
     "execution_count": 41,
     "metadata": {},
     "output_type": "execute_result"
    }
   ],
   "source": [
    "cursor = db.inventory.find({'instock.0.qty': {\"$lte\": 20}})\n",
    "df1 = pd.DataFrame(list(cursor))\n",
    "df1.style.set_properties(subset=['instock'], **{'width': '400px'})"
   ]
  },
  {
   "cell_type": "markdown",
   "metadata": {},
   "source": [
    "> The following example queries for documents where the instock array has at least one embedded document that contains both the field qty equal to 5 and the field warehouse equal to A:"
   ]
  },
  {
   "cell_type": "code",
   "execution_count": 42,
   "metadata": {},
   "outputs": [
    {
     "data": {
      "text/html": [
       "<style  type=\"text/css\" >\n",
       "    #T_e7134756_00f8_11ea_8787_f21898361547row0_col1 {\n",
       "            width:  400px;\n",
       "        }</style>  \n",
       "<table id=\"T_e7134756_00f8_11ea_8787_f21898361547\" > \n",
       "<thead>    <tr> \n",
       "        <th class=\"blank level0\" ></th> \n",
       "        <th class=\"col_heading level0 col0\" >_id</th> \n",
       "        <th class=\"col_heading level0 col1\" >instock</th> \n",
       "        <th class=\"col_heading level0 col2\" >item</th> \n",
       "    </tr></thead> \n",
       "<tbody>    <tr> \n",
       "        <th id=\"T_e7134756_00f8_11ea_8787_f21898361547level0_row0\" class=\"row_heading level0 row0\" >0</th> \n",
       "        <td id=\"T_e7134756_00f8_11ea_8787_f21898361547row0_col0\" class=\"data row0 col0\" >5dc36acedceb78041aba725d</td> \n",
       "        <td id=\"T_e7134756_00f8_11ea_8787_f21898361547row0_col1\" class=\"data row0 col1\" >[{'warehouse': 'A', 'qty': 5}, {'warehouse': 'C', 'qty': 15}]</td> \n",
       "        <td id=\"T_e7134756_00f8_11ea_8787_f21898361547row0_col2\" class=\"data row0 col2\" >journal</td> \n",
       "    </tr></tbody> \n",
       "</table> "
      ],
      "text/plain": [
       "<pandas.io.formats.style.Styler at 0x118a2b5c0>"
      ]
     },
     "execution_count": 42,
     "metadata": {},
     "output_type": "execute_result"
    }
   ],
   "source": [
    "cursor = db.inventory.find(\n",
    "    {\"instock\": {\"$elemMatch\": {\"qty\": 5, \"warehouse\": \"A\"}}})\n",
    "df1 = pd.DataFrame(list(cursor))\n",
    "df1.style.set_properties(subset=['instock'], **{'width': '400px'})"
   ]
  },
  {
   "cell_type": "markdown",
   "metadata": {},
   "source": [
    "> The following example queries for documents where the instock array has at least one embedded document that contains the field qty that is greater than 10 and less than or equal to 20:"
   ]
  },
  {
   "cell_type": "code",
   "execution_count": 43,
   "metadata": {},
   "outputs": [
    {
     "data": {
      "text/html": [
       "<style  type=\"text/css\" >\n",
       "    #T_e7dd3f02_00f8_11ea_8787_f21898361547row0_col1 {\n",
       "            width:  400px;\n",
       "        }    #T_e7dd3f02_00f8_11ea_8787_f21898361547row1_col1 {\n",
       "            width:  400px;\n",
       "        }    #T_e7dd3f02_00f8_11ea_8787_f21898361547row2_col1 {\n",
       "            width:  400px;\n",
       "        }</style>  \n",
       "<table id=\"T_e7dd3f02_00f8_11ea_8787_f21898361547\" > \n",
       "<thead>    <tr> \n",
       "        <th class=\"blank level0\" ></th> \n",
       "        <th class=\"col_heading level0 col0\" >_id</th> \n",
       "        <th class=\"col_heading level0 col1\" >instock</th> \n",
       "        <th class=\"col_heading level0 col2\" >item</th> \n",
       "    </tr></thead> \n",
       "<tbody>    <tr> \n",
       "        <th id=\"T_e7dd3f02_00f8_11ea_8787_f21898361547level0_row0\" class=\"row_heading level0 row0\" >0</th> \n",
       "        <td id=\"T_e7dd3f02_00f8_11ea_8787_f21898361547row0_col0\" class=\"data row0 col0\" >5dc36acedceb78041aba725d</td> \n",
       "        <td id=\"T_e7dd3f02_00f8_11ea_8787_f21898361547row0_col1\" class=\"data row0 col1\" >[{'warehouse': 'A', 'qty': 5}, {'warehouse': 'C', 'qty': 15}]</td> \n",
       "        <td id=\"T_e7dd3f02_00f8_11ea_8787_f21898361547row0_col2\" class=\"data row0 col2\" >journal</td> \n",
       "    </tr>    <tr> \n",
       "        <th id=\"T_e7dd3f02_00f8_11ea_8787_f21898361547level0_row1\" class=\"row_heading level0 row1\" >1</th> \n",
       "        <td id=\"T_e7dd3f02_00f8_11ea_8787_f21898361547row1_col0\" class=\"data row1 col0\" >5dc36acedceb78041aba725f</td> \n",
       "        <td id=\"T_e7dd3f02_00f8_11ea_8787_f21898361547row1_col1\" class=\"data row1 col1\" >[{'warehouse': 'A', 'qty': 60}, {'warehouse': 'B', 'qty': 15}]</td> \n",
       "        <td id=\"T_e7dd3f02_00f8_11ea_8787_f21898361547row1_col2\" class=\"data row1 col2\" >paper</td> \n",
       "    </tr>    <tr> \n",
       "        <th id=\"T_e7dd3f02_00f8_11ea_8787_f21898361547level0_row2\" class=\"row_heading level0 row2\" >2</th> \n",
       "        <td id=\"T_e7dd3f02_00f8_11ea_8787_f21898361547row2_col0\" class=\"data row2 col0\" >5dc36acedceb78041aba7261</td> \n",
       "        <td id=\"T_e7dd3f02_00f8_11ea_8787_f21898361547row2_col1\" class=\"data row2 col1\" >[{'warehouse': 'B', 'qty': 15}, {'warehouse': 'C', 'qty': 35}]</td> \n",
       "        <td id=\"T_e7dd3f02_00f8_11ea_8787_f21898361547row2_col2\" class=\"data row2 col2\" >postcard</td> \n",
       "    </tr></tbody> \n",
       "</table> "
      ],
      "text/plain": [
       "<pandas.io.formats.style.Styler at 0x118a8c860>"
      ]
     },
     "execution_count": 43,
     "metadata": {},
     "output_type": "execute_result"
    }
   ],
   "source": [
    "cursor = db.inventory.find(\n",
    "    {\"instock\": {\"$elemMatch\": {\"qty\": {\"$gt\": 10, \"$lte\": 20}}}})\n",
    "df1 = pd.DataFrame(list(cursor))\n",
    "df1.style.set_properties(subset=['instock'], **{'width': '400px'})"
   ]
  },
  {
   "cell_type": "markdown",
   "metadata": {},
   "source": [
    "> Combination of Elements Satisfies the Criteria\n",
    "Find documents where any document nested in the instock array has the qty field greater than 10 and any document (but not necessarily the same embedded document) in the array has the qty field less than or equal to 20:"
   ]
  },
  {
   "cell_type": "code",
   "execution_count": 44,
   "metadata": {},
   "outputs": [
    {
     "data": {
      "text/html": [
       "<style  type=\"text/css\" >\n",
       "    #T_e88e89ec_00f8_11ea_8787_f21898361547row0_col1 {\n",
       "            width:  400px;\n",
       "        }    #T_e88e89ec_00f8_11ea_8787_f21898361547row1_col1 {\n",
       "            width:  400px;\n",
       "        }    #T_e88e89ec_00f8_11ea_8787_f21898361547row2_col1 {\n",
       "            width:  400px;\n",
       "        }    #T_e88e89ec_00f8_11ea_8787_f21898361547row3_col1 {\n",
       "            width:  400px;\n",
       "        }</style>  \n",
       "<table id=\"T_e88e89ec_00f8_11ea_8787_f21898361547\" > \n",
       "<thead>    <tr> \n",
       "        <th class=\"blank level0\" ></th> \n",
       "        <th class=\"col_heading level0 col0\" >_id</th> \n",
       "        <th class=\"col_heading level0 col1\" >instock</th> \n",
       "        <th class=\"col_heading level0 col2\" >item</th> \n",
       "    </tr></thead> \n",
       "<tbody>    <tr> \n",
       "        <th id=\"T_e88e89ec_00f8_11ea_8787_f21898361547level0_row0\" class=\"row_heading level0 row0\" >0</th> \n",
       "        <td id=\"T_e88e89ec_00f8_11ea_8787_f21898361547row0_col0\" class=\"data row0 col0\" >5dc36acedceb78041aba725d</td> \n",
       "        <td id=\"T_e88e89ec_00f8_11ea_8787_f21898361547row0_col1\" class=\"data row0 col1\" >[{'warehouse': 'A', 'qty': 5}, {'warehouse': 'C', 'qty': 15}]</td> \n",
       "        <td id=\"T_e88e89ec_00f8_11ea_8787_f21898361547row0_col2\" class=\"data row0 col2\" >journal</td> \n",
       "    </tr>    <tr> \n",
       "        <th id=\"T_e88e89ec_00f8_11ea_8787_f21898361547level0_row1\" class=\"row_heading level0 row1\" >1</th> \n",
       "        <td id=\"T_e88e89ec_00f8_11ea_8787_f21898361547row1_col0\" class=\"data row1 col0\" >5dc36acedceb78041aba725f</td> \n",
       "        <td id=\"T_e88e89ec_00f8_11ea_8787_f21898361547row1_col1\" class=\"data row1 col1\" >[{'warehouse': 'A', 'qty': 60}, {'warehouse': 'B', 'qty': 15}]</td> \n",
       "        <td id=\"T_e88e89ec_00f8_11ea_8787_f21898361547row1_col2\" class=\"data row1 col2\" >paper</td> \n",
       "    </tr>    <tr> \n",
       "        <th id=\"T_e88e89ec_00f8_11ea_8787_f21898361547level0_row2\" class=\"row_heading level0 row2\" >2</th> \n",
       "        <td id=\"T_e88e89ec_00f8_11ea_8787_f21898361547row2_col0\" class=\"data row2 col0\" >5dc36acedceb78041aba7260</td> \n",
       "        <td id=\"T_e88e89ec_00f8_11ea_8787_f21898361547row2_col1\" class=\"data row2 col1\" >[{'warehouse': 'A', 'qty': 40}, {'warehouse': 'B', 'qty': 5}]</td> \n",
       "        <td id=\"T_e88e89ec_00f8_11ea_8787_f21898361547row2_col2\" class=\"data row2 col2\" >planner</td> \n",
       "    </tr>    <tr> \n",
       "        <th id=\"T_e88e89ec_00f8_11ea_8787_f21898361547level0_row3\" class=\"row_heading level0 row3\" >3</th> \n",
       "        <td id=\"T_e88e89ec_00f8_11ea_8787_f21898361547row3_col0\" class=\"data row3 col0\" >5dc36acedceb78041aba7261</td> \n",
       "        <td id=\"T_e88e89ec_00f8_11ea_8787_f21898361547row3_col1\" class=\"data row3 col1\" >[{'warehouse': 'B', 'qty': 15}, {'warehouse': 'C', 'qty': 35}]</td> \n",
       "        <td id=\"T_e88e89ec_00f8_11ea_8787_f21898361547row3_col2\" class=\"data row3 col2\" >postcard</td> \n",
       "    </tr></tbody> \n",
       "</table> "
      ],
      "text/plain": [
       "<pandas.io.formats.style.Styler at 0x118a732e8>"
      ]
     },
     "execution_count": 44,
     "metadata": {},
     "output_type": "execute_result"
    }
   ],
   "source": [
    "cursor = db.inventory.find({\"instock.qty\": {\"$gt\": 10, \"$lte\": 20}})\n",
    "df1 = pd.DataFrame(list(cursor))\n",
    "df1.style.set_properties(subset=['instock'], **{'width': '400px'})"
   ]
  },
  {
   "cell_type": "code",
   "execution_count": 45,
   "metadata": {},
   "outputs": [
    {
     "data": {
      "text/html": [
       "<style  type=\"text/css\" >\n",
       "    #T_e8dfa854_00f8_11ea_8787_f21898361547row0_col1 {\n",
       "            width:  400px;\n",
       "        }    #T_e8dfa854_00f8_11ea_8787_f21898361547row1_col1 {\n",
       "            width:  400px;\n",
       "        }</style>  \n",
       "<table id=\"T_e8dfa854_00f8_11ea_8787_f21898361547\" > \n",
       "<thead>    <tr> \n",
       "        <th class=\"blank level0\" ></th> \n",
       "        <th class=\"col_heading level0 col0\" >_id</th> \n",
       "        <th class=\"col_heading level0 col1\" >instock</th> \n",
       "        <th class=\"col_heading level0 col2\" >item</th> \n",
       "    </tr></thead> \n",
       "<tbody>    <tr> \n",
       "        <th id=\"T_e8dfa854_00f8_11ea_8787_f21898361547level0_row0\" class=\"row_heading level0 row0\" >0</th> \n",
       "        <td id=\"T_e8dfa854_00f8_11ea_8787_f21898361547row0_col0\" class=\"data row0 col0\" >5dc36acedceb78041aba725d</td> \n",
       "        <td id=\"T_e8dfa854_00f8_11ea_8787_f21898361547row0_col1\" class=\"data row0 col1\" >[{'warehouse': 'A', 'qty': 5}, {'warehouse': 'C', 'qty': 15}]</td> \n",
       "        <td id=\"T_e8dfa854_00f8_11ea_8787_f21898361547row0_col2\" class=\"data row0 col2\" >journal</td> \n",
       "    </tr>    <tr> \n",
       "        <th id=\"T_e8dfa854_00f8_11ea_8787_f21898361547level0_row1\" class=\"row_heading level0 row1\" >1</th> \n",
       "        <td id=\"T_e8dfa854_00f8_11ea_8787_f21898361547row1_col0\" class=\"data row1 col0\" >5dc36acedceb78041aba7260</td> \n",
       "        <td id=\"T_e8dfa854_00f8_11ea_8787_f21898361547row1_col1\" class=\"data row1 col1\" >[{'warehouse': 'A', 'qty': 40}, {'warehouse': 'B', 'qty': 5}]</td> \n",
       "        <td id=\"T_e8dfa854_00f8_11ea_8787_f21898361547row1_col2\" class=\"data row1 col2\" >planner</td> \n",
       "    </tr></tbody> \n",
       "</table> "
      ],
      "text/plain": [
       "<pandas.io.formats.style.Styler at 0x118a8ca20>"
      ]
     },
     "execution_count": 45,
     "metadata": {},
     "output_type": "execute_result"
    }
   ],
   "source": [
    "cursor = db.inventory.find(\n",
    "    {\"instock.qty\": 5, \"instock.warehouse\": \"A\"})\n",
    "df1 = pd.DataFrame(list(cursor))\n",
    "df1.style.set_properties(subset=['instock'], **{'width': '400px'})"
   ]
  },
  {
   "cell_type": "code",
   "execution_count": 46,
   "metadata": {},
   "outputs": [
    {
     "data": {
      "text/html": [
       "<style  type=\"text/css\" >\n",
       "    #T_e92c66c6_00f8_11ea_8787_f21898361547row0_col1 {\n",
       "            width:  400px;\n",
       "        }</style>  \n",
       "<table id=\"T_e92c66c6_00f8_11ea_8787_f21898361547\" > \n",
       "<thead>    <tr> \n",
       "        <th class=\"blank level0\" ></th> \n",
       "        <th class=\"col_heading level0 col0\" >_id</th> \n",
       "        <th class=\"col_heading level0 col1\" >instock</th> \n",
       "        <th class=\"col_heading level0 col2\" >item</th> \n",
       "    </tr></thead> \n",
       "<tbody>    <tr> \n",
       "        <th id=\"T_e92c66c6_00f8_11ea_8787_f21898361547level0_row0\" class=\"row_heading level0 row0\" >0</th> \n",
       "        <td id=\"T_e92c66c6_00f8_11ea_8787_f21898361547row0_col0\" class=\"data row0 col0\" >5dc36acedceb78041aba725d</td> \n",
       "        <td id=\"T_e92c66c6_00f8_11ea_8787_f21898361547row0_col1\" class=\"data row0 col1\" >[{'warehouse': 'A', 'qty': 5}, {'warehouse': 'C', 'qty': 15}]</td> \n",
       "        <td id=\"T_e92c66c6_00f8_11ea_8787_f21898361547row0_col2\" class=\"data row0 col2\" >journal</td> \n",
       "    </tr></tbody> \n",
       "</table> "
      ],
      "text/plain": [
       "<pandas.io.formats.style.Styler at 0x118a8dc88>"
      ]
     },
     "execution_count": 46,
     "metadata": {},
     "output_type": "execute_result"
    }
   ],
   "source": [
    "cursor = db.inventory.find(\n",
    "    {\"instock\": {\"warehouse\":\"A\",\"qty\":5}})\n",
    "df1 = pd.DataFrame(list(cursor))\n",
    "df1.style.set_properties(subset=['instock'], **{'width': '400px'})"
   ]
  },
  {
   "cell_type": "markdown",
   "metadata": {},
   "source": [
    "### Update Operators\n",
    "\n",
    "db.collection.updateOne()  --> db.collection.update_one()\n",
    "db.collection.updateMany() --> db.collection.update_many()\n",
    "db.collection.replaceOne() --> db.collection.replace_one()\n",
    "\n",
    "#### Syntax:\n",
    "db.database_name.update_many(         <--- collection\n",
    "    {\"age\":{\"$lt\" : 18} },            <--- update filter\n",
    "    {\"$set\":{\"status\":\"reject\"} }     <--- update action\n",
    "\n",
    ")"
   ]
  },
  {
   "cell_type": "code",
   "execution_count": 47,
   "metadata": {},
   "outputs": [
    {
     "data": {
      "text/plain": [
       "<pymongo.results.InsertManyResult at 0x1189bf148>"
      ]
     },
     "execution_count": 47,
     "metadata": {},
     "output_type": "execute_result"
    }
   ],
   "source": [
    "db.inventory.drop()\n",
    "db.inventory.insert_many([\n",
    "    {\"item\": \"canvas\",\n",
    "     \"qty\": 100,\n",
    "     \"size\": {\"h\": 28, \"w\": 35.5, \"uom\": \"cm\"},\n",
    "     \"status\": \"A\"},\n",
    "    {\"item\": \"journal\",\n",
    "     \"qty\": 25,\n",
    "     \"size\": {\"h\": 14, \"w\": 21, \"uom\": \"cm\"},\n",
    "     \"status\": \"A\"},\n",
    "    {\"item\": \"mat\",\n",
    "     \"qty\": 85,\n",
    "     \"size\": {\"h\": 27.9, \"w\": 35.5, \"uom\": \"cm\"},\n",
    "     \"status\": \"A\"},\n",
    "    {\"item\": \"mousepad\",\n",
    "     \"qty\": 25,\n",
    "     \"size\": {\"h\": 19, \"w\": 22.85, \"uom\": \"cm\"},\n",
    "     \"status\": \"P\"},\n",
    "    {\"item\": \"notebook\",\n",
    "     \"qty\": 50,\n",
    "     \"size\": {\"h\": 8.5, \"w\": 11, \"uom\": \"in\"},\n",
    "     \"status\": \"P\"},\n",
    "    {\"item\": \"paper\",\n",
    "     \"qty\": 100,\n",
    "     \"size\": {\"h\": 8.5, \"w\": 11, \"uom\": \"in\"},\n",
    "     \"status\": \"D\"},\n",
    "    {\"item\": \"planner\",\n",
    "     \"qty\": 75,\n",
    "     \"size\": {\"h\": 22.85, \"w\": 30, \"uom\": \"cm\"},\n",
    "     \"status\": \"D\"},\n",
    "    {\"item\": \"postcard\",\n",
    "     \"qty\": 45,\n",
    "     \"size\": {\"h\": 10, \"w\": 15.25, \"uom\": \"cm\"},\n",
    "     \"status\": \"A\"},\n",
    "    {\"item\": \"sketchbook\",\n",
    "     \"qty\": 80,\n",
    "     \"size\": {\"h\": 14, \"w\": 21, \"uom\": \"cm\"},\n",
    "     \"status\": \"A\"},\n",
    "    {\"item\": \"sketch pad\",\n",
    "     \"qty\": 95,\n",
    "     \"size\": {\"h\": 22.85, \"w\": 30.5, \"uom\": \"cm\"},\n",
    "     \"status\": \"A\"}])"
   ]
  },
  {
   "cell_type": "markdown",
   "metadata": {},
   "source": [
    "#### Update Documents in a Collection"
   ]
  },
  {
   "cell_type": "code",
   "execution_count": 48,
   "metadata": {},
   "outputs": [
    {
     "data": {
      "text/plain": [
       "<pymongo.results.UpdateResult at 0x1189d8a48>"
      ]
     },
     "execution_count": 48,
     "metadata": {},
     "output_type": "execute_result"
    }
   ],
   "source": [
    "db.inventory.update_one(\n",
    "    {\"item\": \"paper\"},\n",
    "    {\"$set\": {\"size.uom\": \"cm\", \"status\": \"P\"},\n",
    "     \"$currentDate\": {\"lastModified\": True}})"
   ]
  },
  {
   "cell_type": "code",
   "execution_count": 49,
   "metadata": {},
   "outputs": [
    {
     "data": {
      "text/html": [
       "<div>\n",
       "<style scoped>\n",
       "    .dataframe tbody tr th:only-of-type {\n",
       "        vertical-align: middle;\n",
       "    }\n",
       "\n",
       "    .dataframe tbody tr th {\n",
       "        vertical-align: top;\n",
       "    }\n",
       "\n",
       "    .dataframe thead th {\n",
       "        text-align: right;\n",
       "    }\n",
       "</style>\n",
       "<table border=\"1\" class=\"dataframe\">\n",
       "  <thead>\n",
       "    <tr style=\"text-align: right;\">\n",
       "      <th></th>\n",
       "      <th>_id</th>\n",
       "      <th>item</th>\n",
       "      <th>lastModified</th>\n",
       "      <th>qty</th>\n",
       "      <th>size</th>\n",
       "      <th>status</th>\n",
       "    </tr>\n",
       "  </thead>\n",
       "  <tbody>\n",
       "    <tr>\n",
       "      <th>0</th>\n",
       "      <td>5dc36adedceb78041aba7267</td>\n",
       "      <td>paper</td>\n",
       "      <td>2019-11-07 00:52:47.640</td>\n",
       "      <td>100</td>\n",
       "      <td>{'h': 8.5, 'w': 11, 'uom': 'cm'}</td>\n",
       "      <td>P</td>\n",
       "    </tr>\n",
       "  </tbody>\n",
       "</table>\n",
       "</div>"
      ],
      "text/plain": [
       "                        _id   item            lastModified  qty  \\\n",
       "0  5dc36adedceb78041aba7267  paper 2019-11-07 00:52:47.640  100   \n",
       "\n",
       "                               size status  \n",
       "0  {'h': 8.5, 'w': 11, 'uom': 'cm'}      P  "
      ]
     },
     "execution_count": 49,
     "metadata": {},
     "output_type": "execute_result"
    }
   ],
   "source": [
    "cursor = db.inventory.find({\"item\":\"paper\"})\n",
    "df1 = pd.DataFrame(list(cursor))\n",
    "df1\n",
    "#df1.style.set_properties(subset=['instock'], **{'width': '400px'})"
   ]
  },
  {
   "cell_type": "code",
   "execution_count": 50,
   "metadata": {},
   "outputs": [
    {
     "data": {
      "text/plain": [
       "<pymongo.results.UpdateResult at 0x118991cc8>"
      ]
     },
     "execution_count": 50,
     "metadata": {},
     "output_type": "execute_result"
    }
   ],
   "source": [
    "db.inventory.update_many(\n",
    "    {\"qty\": {\"$lt\": 50}},\n",
    "    {\"$set\": {\"size.uom\": \"in\", \"status\": \"P\"},\n",
    "     \"$currentDate\": {\"lastModified\": True}})"
   ]
  },
  {
   "cell_type": "code",
   "execution_count": 51,
   "metadata": {},
   "outputs": [
    {
     "data": {
      "text/plain": [
       "<pymongo.results.UpdateResult at 0x11899dac8>"
      ]
     },
     "execution_count": 51,
     "metadata": {},
     "output_type": "execute_result"
    }
   ],
   "source": [
    "db.inventory.replace_one(\n",
    "    {\"item\": \"paper\"},\n",
    "    {\"item\": \"paper\",\n",
    "     \"instock\": [\n",
    "         {\"warehouse\": \"A\", \"qty\": 60},\n",
    "         {\"warehouse\": \"B\", \"qty\": 40}]})"
   ]
  },
  {
   "cell_type": "markdown",
   "metadata": {},
   "source": [
    "### Delete Operations\n",
    "db.collection.deleteOne()  --> db.collection.delete_one()\n",
    "db.collection.deleteMany() --> db.collection.delete_many()\n",
    "\n",
    "\n",
    "#### Syntax:\n",
    "db.database.delete_many(       <--- collection\n",
    "    {\"status\": \"reject\"}       <--- delete filter\n",
    ")"
   ]
  },
  {
   "cell_type": "code",
   "execution_count": 52,
   "metadata": {},
   "outputs": [
    {
     "data": {
      "text/plain": [
       "<pymongo.results.DeleteResult at 0x118a20f88>"
      ]
     },
     "execution_count": 52,
     "metadata": {},
     "output_type": "execute_result"
    }
   ],
   "source": [
    "db.inventory.delete_many({\"status\": \"A\"})"
   ]
  },
  {
   "cell_type": "code",
   "execution_count": 53,
   "metadata": {},
   "outputs": [
    {
     "data": {
      "text/plain": [
       "<pymongo.results.DeleteResult at 0x118a20dc8>"
      ]
     },
     "execution_count": 53,
     "metadata": {},
     "output_type": "execute_result"
    }
   ],
   "source": [
    "db.inventory.delete_one({\"status\": \"D\"})"
   ]
  },
  {
   "cell_type": "markdown",
   "metadata": {},
   "source": [
    "## Text Search\n",
    "#### MongoDB provides text indexes to support text search queries on string content. text indexes can include any field whose value is a string or an array of string elements.\n",
    "\n",
    ">>> To perform text search queries, you must have a text index on your collection. A collection can only have one text search index, but that index can cover multiple fields."
   ]
  },
  {
   "cell_type": "code",
   "execution_count": 54,
   "metadata": {},
   "outputs": [
    {
     "data": {
      "text/plain": [
       "<pymongo.results.InsertManyResult at 0x1189f8e08>"
      ]
     },
     "execution_count": 54,
     "metadata": {},
     "output_type": "execute_result"
    }
   ],
   "source": [
    "db.stores.drop()\n",
    "db.stores.insert_many(\n",
    "   [\n",
    "     {\"name\": \"Java Hut\", \"description\": \"Coffee and cakes\" },\n",
    "     {\"name\": \"Burger Buns\", \"description\": \"Gourmet hamburgers\" },\n",
    "     {\"name\": \"Coffee Shop\", \"description\": \"Just coffee\" },\n",
    "     {\"name\": \"Clothes Clothes Clothes\", \"description\": \"Discount clothing\" },\n",
    "     {\"name\": \"Java Shopping\", \"description\": \"Indonesian goods\" }\n",
    "   ]\n",
    ")"
   ]
  },
  {
   "cell_type": "code",
   "execution_count": 55,
   "metadata": {},
   "outputs": [
    {
     "data": {
      "text/plain": [
       "'name_text_description_text'"
      ]
     },
     "execution_count": 55,
     "metadata": {},
     "output_type": "execute_result"
    }
   ],
   "source": [
    "db.stores.create_index( [ (\"name\",\"text\"), (\"description\", \"text\") ] )"
   ]
  },
  {
   "cell_type": "markdown",
   "metadata": {},
   "source": [
    ">>> 😁\n",
    "$ $text Operator\n",
    "\n",
    "Use the '$text' query operator to perform text searches on a collection with a text index.\n",
    "\n",
    "'$text' will tokenize the search string using whitespace and most punctuation as delimiters, and perform a logical OR of all such tokens in the search string.\n",
    "\n",
    "> find all stores containing any terms from the list “coffee”, “shop”, and “java”"
   ]
  },
  {
   "cell_type": "code",
   "execution_count": 56,
   "metadata": {},
   "outputs": [
    {
     "data": {
      "text/html": [
       "<div>\n",
       "<style scoped>\n",
       "    .dataframe tbody tr th:only-of-type {\n",
       "        vertical-align: middle;\n",
       "    }\n",
       "\n",
       "    .dataframe tbody tr th {\n",
       "        vertical-align: top;\n",
       "    }\n",
       "\n",
       "    .dataframe thead th {\n",
       "        text-align: right;\n",
       "    }\n",
       "</style>\n",
       "<table border=\"1\" class=\"dataframe\">\n",
       "  <thead>\n",
       "    <tr style=\"text-align: right;\">\n",
       "      <th></th>\n",
       "      <th>_id</th>\n",
       "      <th>description</th>\n",
       "      <th>name</th>\n",
       "    </tr>\n",
       "  </thead>\n",
       "  <tbody>\n",
       "    <tr>\n",
       "      <th>0</th>\n",
       "      <td>5dc36ae4dceb78041aba726e</td>\n",
       "      <td>Just coffee</td>\n",
       "      <td>Coffee Shop</td>\n",
       "    </tr>\n",
       "    <tr>\n",
       "      <th>1</th>\n",
       "      <td>5dc36ae4dceb78041aba726c</td>\n",
       "      <td>Coffee and cakes</td>\n",
       "      <td>Java Hut</td>\n",
       "    </tr>\n",
       "    <tr>\n",
       "      <th>2</th>\n",
       "      <td>5dc36ae4dceb78041aba7270</td>\n",
       "      <td>Indonesian goods</td>\n",
       "      <td>Java Shopping</td>\n",
       "    </tr>\n",
       "  </tbody>\n",
       "</table>\n",
       "</div>"
      ],
      "text/plain": [
       "                        _id       description           name\n",
       "0  5dc36ae4dceb78041aba726e       Just coffee    Coffee Shop\n",
       "1  5dc36ae4dceb78041aba726c  Coffee and cakes       Java Hut\n",
       "2  5dc36ae4dceb78041aba7270  Indonesian goods  Java Shopping"
      ]
     },
     "execution_count": 56,
     "metadata": {},
     "output_type": "execute_result"
    }
   ],
   "source": [
    "cursor = db.stores.find( { \"$text\": { \"$search\": \"java coffee shop\" } } )\n",
    "df1 = pd.DataFrame(list(cursor))\n",
    "df1\n",
    "#df1.style.set_properties(subset=['instock'], **{'width': '400px'})"
   ]
  },
  {
   "cell_type": "markdown",
   "metadata": {},
   "source": [
    "##### Exact Phrase\n",
    "> find all documents containing “java” or “coffee shop”\n",
    "\"coffee shop\" --> \\\"coffee shop\\\""
   ]
  },
  {
   "cell_type": "code",
   "execution_count": 57,
   "metadata": {
    "scrolled": true
   },
   "outputs": [
    {
     "data": {
      "text/html": [
       "<div>\n",
       "<style scoped>\n",
       "    .dataframe tbody tr th:only-of-type {\n",
       "        vertical-align: middle;\n",
       "    }\n",
       "\n",
       "    .dataframe tbody tr th {\n",
       "        vertical-align: top;\n",
       "    }\n",
       "\n",
       "    .dataframe thead th {\n",
       "        text-align: right;\n",
       "    }\n",
       "</style>\n",
       "<table border=\"1\" class=\"dataframe\">\n",
       "  <thead>\n",
       "    <tr style=\"text-align: right;\">\n",
       "      <th></th>\n",
       "      <th>_id</th>\n",
       "      <th>description</th>\n",
       "      <th>name</th>\n",
       "    </tr>\n",
       "  </thead>\n",
       "  <tbody>\n",
       "    <tr>\n",
       "      <th>0</th>\n",
       "      <td>5dc36ae4dceb78041aba726e</td>\n",
       "      <td>Just coffee</td>\n",
       "      <td>Coffee Shop</td>\n",
       "    </tr>\n",
       "  </tbody>\n",
       "</table>\n",
       "</div>"
      ],
      "text/plain": [
       "                        _id  description         name\n",
       "0  5dc36ae4dceb78041aba726e  Just coffee  Coffee Shop"
      ]
     },
     "execution_count": 57,
     "metadata": {},
     "output_type": "execute_result"
    }
   ],
   "source": [
    "cursor = db.stores.find( { \"$text\": { \"$search\": \"java \\\"coffee shop\\\"\" } } )\n",
    "df1 = pd.DataFrame(list(cursor))\n",
    "df1"
   ]
  },
  {
   "cell_type": "markdown",
   "metadata": {},
   "source": [
    "#### Term Exclusion\n",
    "> find all stores containing “java” or “shop” but not “coffee”"
   ]
  },
  {
   "cell_type": "code",
   "execution_count": 58,
   "metadata": {},
   "outputs": [
    {
     "data": {
      "text/html": [
       "<div>\n",
       "<style scoped>\n",
       "    .dataframe tbody tr th:only-of-type {\n",
       "        vertical-align: middle;\n",
       "    }\n",
       "\n",
       "    .dataframe tbody tr th {\n",
       "        vertical-align: top;\n",
       "    }\n",
       "\n",
       "    .dataframe thead th {\n",
       "        text-align: right;\n",
       "    }\n",
       "</style>\n",
       "<table border=\"1\" class=\"dataframe\">\n",
       "  <thead>\n",
       "    <tr style=\"text-align: right;\">\n",
       "      <th></th>\n",
       "      <th>_id</th>\n",
       "      <th>description</th>\n",
       "      <th>name</th>\n",
       "    </tr>\n",
       "  </thead>\n",
       "  <tbody>\n",
       "    <tr>\n",
       "      <th>0</th>\n",
       "      <td>5dc36ae4dceb78041aba7270</td>\n",
       "      <td>Indonesian goods</td>\n",
       "      <td>Java Shopping</td>\n",
       "    </tr>\n",
       "  </tbody>\n",
       "</table>\n",
       "</div>"
      ],
      "text/plain": [
       "                        _id       description           name\n",
       "0  5dc36ae4dceb78041aba7270  Indonesian goods  Java Shopping"
      ]
     },
     "execution_count": 58,
     "metadata": {},
     "output_type": "execute_result"
    }
   ],
   "source": [
    "cursor = db.stores.find( { \"$text\": { \"$search\": \"java shop -coffee\" } } )\n",
    "df1 = pd.DataFrame(list(cursor))\n",
    "df1"
   ]
  },
  {
   "cell_type": "markdown",
   "metadata": {},
   "source": [
    "#### Sorting\n",
    "\n",
    "1. MongoDB will return its results in unsorted order by default. However, text search queries will compute a relevance score for each document that specifies how well a document matches the query.\n",
    "\n",
    "2. To sort the results in order of relevance score, you must explicitly project the '$meta' textScore field and sort on it:\n",
    "\n"
   ]
  },
  {
   "cell_type": "code",
   "execution_count": 59,
   "metadata": {},
   "outputs": [
    {
     "data": {
      "text/html": [
       "<div>\n",
       "<style scoped>\n",
       "    .dataframe tbody tr th:only-of-type {\n",
       "        vertical-align: middle;\n",
       "    }\n",
       "\n",
       "    .dataframe tbody tr th {\n",
       "        vertical-align: top;\n",
       "    }\n",
       "\n",
       "    .dataframe thead th {\n",
       "        text-align: right;\n",
       "    }\n",
       "</style>\n",
       "<table border=\"1\" class=\"dataframe\">\n",
       "  <thead>\n",
       "    <tr style=\"text-align: right;\">\n",
       "      <th></th>\n",
       "      <th>_id</th>\n",
       "      <th>description</th>\n",
       "      <th>name</th>\n",
       "      <th>score</th>\n",
       "    </tr>\n",
       "  </thead>\n",
       "  <tbody>\n",
       "    <tr>\n",
       "      <th>0</th>\n",
       "      <td>5dc36ae4dceb78041aba726e</td>\n",
       "      <td>Just coffee</td>\n",
       "      <td>Coffee Shop</td>\n",
       "      <td>2.25</td>\n",
       "    </tr>\n",
       "    <tr>\n",
       "      <th>1</th>\n",
       "      <td>5dc36ae4dceb78041aba726c</td>\n",
       "      <td>Coffee and cakes</td>\n",
       "      <td>Java Hut</td>\n",
       "      <td>1.50</td>\n",
       "    </tr>\n",
       "    <tr>\n",
       "      <th>2</th>\n",
       "      <td>5dc36ae4dceb78041aba7270</td>\n",
       "      <td>Indonesian goods</td>\n",
       "      <td>Java Shopping</td>\n",
       "      <td>1.50</td>\n",
       "    </tr>\n",
       "  </tbody>\n",
       "</table>\n",
       "</div>"
      ],
      "text/plain": [
       "                        _id       description           name  score\n",
       "0  5dc36ae4dceb78041aba726e       Just coffee    Coffee Shop   2.25\n",
       "1  5dc36ae4dceb78041aba726c  Coffee and cakes       Java Hut   1.50\n",
       "2  5dc36ae4dceb78041aba7270  Indonesian goods  Java Shopping   1.50"
      ]
     },
     "execution_count": 59,
     "metadata": {},
     "output_type": "execute_result"
    }
   ],
   "source": [
    "cursor = db.stores.find(\n",
    "   { \"$text\": { \"$search\": \"java coffee shop\" } },\n",
    "   { \"score\": { \"$meta\": \"textScore\" } }\n",
    ").sort( [( \"score\", { \"$meta\": \"textScore\" } )] )\n",
    "\n",
    "df1 = pd.DataFrame(list(cursor))\n",
    "df1"
   ]
  }
 ],
 "metadata": {
  "kernelspec": {
   "display_name": "Python 3",
   "language": "python",
   "name": "python3"
  },
  "language_info": {
   "codemirror_mode": {
    "name": "ipython",
    "version": 3
   },
   "file_extension": ".py",
   "mimetype": "text/x-python",
   "name": "python",
   "nbconvert_exporter": "python",
   "pygments_lexer": "ipython3",
   "version": "3.7.1"
  }
 },
 "nbformat": 4,
 "nbformat_minor": 2
}
